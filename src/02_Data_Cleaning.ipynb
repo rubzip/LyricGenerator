{
 "cells": [
  {
   "cell_type": "code",
   "execution_count": 50,
   "id": "13b88fae-5dc4-442b-b12e-b1b9095e34a0",
   "metadata": {},
   "outputs": [],
   "source": [
    "import json\n",
    "import random\n",
    "import os\n",
    "import re\n",
    "import pandas as pd\n",
    "from sklearn.model_selection import train_test_split\n",
    "import matplotlib.pyplot as plt"
   ]
  },
  {
   "cell_type": "markdown",
   "id": "d2c4daa8",
   "metadata": {},
   "source": [
    "# Read files"
   ]
  },
  {
   "cell_type": "code",
   "execution_count": 51,
   "id": "0aa27648-911a-453f-b0c9-a7efa9267efa",
   "metadata": {},
   "outputs": [],
   "source": [
    "json_path = \"./data/jsons/\"\n",
    "\n",
    "pattern_replace = r\"\\d+Embed\"\n",
    "pattern_split = r\"\\n*(\\[.+\\])\\n*\"\n",
    "content = []\n",
    "\n",
    "for filename in os.listdir(json_path):\n",
    "    with open(json_path + filename, \"r\") as f:\n",
    "        songs = json.load(f)\n",
    "\n",
    "    artist = filename.split(\".\")[0].replace(\"_\", \" \")\n",
    "    for song_name, song in songs.items():\n",
    "        tag = \"\"\n",
    "        song_clean = re.sub(pattern=pattern_replace, string=song, repl=\"\")\n",
    "\n",
    "        for part in re.split(pattern_split, song_clean):\n",
    "            if re.match(pattern_split, part):\n",
    "                tag = part\n",
    "            else:\n",
    "                content.append((artist, song_name, tag, part))\n",
    "                tag = \"\""
   ]
  },
  {
   "cell_type": "code",
   "execution_count": 52,
   "id": "14dc33ad-2351-480e-83a5-0f1c89827974",
   "metadata": {},
   "outputs": [
    {
     "data": {
      "text/html": [
       "<div>\n",
       "<style scoped>\n",
       "    .dataframe tbody tr th:only-of-type {\n",
       "        vertical-align: middle;\n",
       "    }\n",
       "\n",
       "    .dataframe tbody tr th {\n",
       "        vertical-align: top;\n",
       "    }\n",
       "\n",
       "    .dataframe thead th {\n",
       "        text-align: right;\n",
       "    }\n",
       "</style>\n",
       "<table border=\"1\" class=\"dataframe\">\n",
       "  <thead>\n",
       "    <tr style=\"text-align: right;\">\n",
       "      <th></th>\n",
       "      <th>artist</th>\n",
       "      <th>song</th>\n",
       "      <th>tag</th>\n",
       "      <th>content</th>\n",
       "    </tr>\n",
       "  </thead>\n",
       "  <tbody>\n",
       "    <tr>\n",
       "      <th>0</th>\n",
       "      <td>Shawn Mendes</td>\n",
       "      <td>There’s Nothing Holdin’ Me Back</td>\n",
       "      <td></td>\n",
       "      <td>146 ContributorsTranslationsEspañolDeutschTher...</td>\n",
       "    </tr>\n",
       "    <tr>\n",
       "      <th>1</th>\n",
       "      <td>Shawn Mendes</td>\n",
       "      <td>There’s Nothing Holdin’ Me Back</td>\n",
       "      <td>[Verse 1]</td>\n",
       "      <td>I wanna follow where she goes\\nI think about h...</td>\n",
       "    </tr>\n",
       "    <tr>\n",
       "      <th>2</th>\n",
       "      <td>Shawn Mendes</td>\n",
       "      <td>There’s Nothing Holdin’ Me Back</td>\n",
       "      <td>[Pre-Chorus]</td>\n",
       "      <td>She pulls me in enough to keep me guessin' (Mm...</td>\n",
       "    </tr>\n",
       "    <tr>\n",
       "      <th>3</th>\n",
       "      <td>Shawn Mendes</td>\n",
       "      <td>There’s Nothing Holdin’ Me Back</td>\n",
       "      <td>[Chorus]</td>\n",
       "      <td>Oh, I've been shaking\\nI love it when you go c...</td>\n",
       "    </tr>\n",
       "    <tr>\n",
       "      <th>4</th>\n",
       "      <td>Shawn Mendes</td>\n",
       "      <td>There’s Nothing Holdin’ Me Back</td>\n",
       "      <td>[Verse 2]</td>\n",
       "      <td>She says that she's never afraid\\nJust picture...</td>\n",
       "    </tr>\n",
       "    <tr>\n",
       "      <th>...</th>\n",
       "      <td>...</td>\n",
       "      <td>...</td>\n",
       "      <td>...</td>\n",
       "      <td>...</td>\n",
       "    </tr>\n",
       "    <tr>\n",
       "      <th>10140</th>\n",
       "      <td>Backstreet Boys</td>\n",
       "      <td>Larger Than Life</td>\n",
       "      <td>[Chorus: All &amp; AJ]</td>\n",
       "      <td>All you people, can't you see, can't you see\\n...</td>\n",
       "    </tr>\n",
       "    <tr>\n",
       "      <th>10141</th>\n",
       "      <td>Backstreet Boys</td>\n",
       "      <td>Larger Than Life</td>\n",
       "      <td>[Bridge: All &amp; AJ]</td>\n",
       "      <td>Ooh-ooh (Yeah)\\nOoh-ooh (Ha-ha-ha, that's righ...</td>\n",
       "    </tr>\n",
       "    <tr>\n",
       "      <th>10142</th>\n",
       "      <td>Backstreet Boys</td>\n",
       "      <td>Larger Than Life</td>\n",
       "      <td>[Chorus: All]</td>\n",
       "      <td>All you people, can't you see, can't you see\\n...</td>\n",
       "    </tr>\n",
       "    <tr>\n",
       "      <th>10143</th>\n",
       "      <td>Backstreet Boys</td>\n",
       "      <td>Larger Than Life</td>\n",
       "      <td>[Post-Chorus: AJ &amp; (All)]</td>\n",
       "      <td>(Yeah) Every time we're down\\n(Yeah) You can m...</td>\n",
       "    </tr>\n",
       "    <tr>\n",
       "      <th>10144</th>\n",
       "      <td>Backstreet Boys</td>\n",
       "      <td>Larger Than Life</td>\n",
       "      <td>[Chorus: All &amp; AJ]</td>\n",
       "      <td>All you people, can't you see, can't you see\\n...</td>\n",
       "    </tr>\n",
       "  </tbody>\n",
       "</table>\n",
       "<p>10145 rows × 4 columns</p>\n",
       "</div>"
      ],
      "text/plain": [
       "                artist                             song  \\\n",
       "0         Shawn Mendes  There’s Nothing Holdin’ Me Back   \n",
       "1         Shawn Mendes  There’s Nothing Holdin’ Me Back   \n",
       "2         Shawn Mendes  There’s Nothing Holdin’ Me Back   \n",
       "3         Shawn Mendes  There’s Nothing Holdin’ Me Back   \n",
       "4         Shawn Mendes  There’s Nothing Holdin’ Me Back   \n",
       "...                ...                              ...   \n",
       "10140  Backstreet Boys                 Larger Than Life   \n",
       "10141  Backstreet Boys                 Larger Than Life   \n",
       "10142  Backstreet Boys                 Larger Than Life   \n",
       "10143  Backstreet Boys                 Larger Than Life   \n",
       "10144  Backstreet Boys                 Larger Than Life   \n",
       "\n",
       "                             tag  \\\n",
       "0                                  \n",
       "1                      [Verse 1]   \n",
       "2                   [Pre-Chorus]   \n",
       "3                       [Chorus]   \n",
       "4                      [Verse 2]   \n",
       "...                          ...   \n",
       "10140         [Chorus: All & AJ]   \n",
       "10141         [Bridge: All & AJ]   \n",
       "10142              [Chorus: All]   \n",
       "10143  [Post-Chorus: AJ & (All)]   \n",
       "10144         [Chorus: All & AJ]   \n",
       "\n",
       "                                                 content  \n",
       "0      146 ContributorsTranslationsEspañolDeutschTher...  \n",
       "1      I wanna follow where she goes\\nI think about h...  \n",
       "2      She pulls me in enough to keep me guessin' (Mm...  \n",
       "3      Oh, I've been shaking\\nI love it when you go c...  \n",
       "4      She says that she's never afraid\\nJust picture...  \n",
       "...                                                  ...  \n",
       "10140  All you people, can't you see, can't you see\\n...  \n",
       "10141  Ooh-ooh (Yeah)\\nOoh-ooh (Ha-ha-ha, that's righ...  \n",
       "10142  All you people, can't you see, can't you see\\n...  \n",
       "10143  (Yeah) Every time we're down\\n(Yeah) You can m...  \n",
       "10144  All you people, can't you see, can't you see\\n...  \n",
       "\n",
       "[10145 rows x 4 columns]"
      ]
     },
     "execution_count": 52,
     "metadata": {},
     "output_type": "execute_result"
    }
   ],
   "source": [
    "df = pd.DataFrame(content, columns=[\"artist\", \"song\", \"tag\", \"content\"])\n",
    "df"
   ]
  },
  {
   "cell_type": "markdown",
   "id": "257a3086",
   "metadata": {},
   "source": [
    "# Tag Cleansing"
   ]
  },
  {
   "cell_type": "code",
   "execution_count": 53,
   "id": "d48ce90c-b596-4c5a-9c95-800ebab66949",
   "metadata": {},
   "outputs": [],
   "source": [
    "def clean(tag):\n",
    "    pattern = r\"\\[(.+)\\:\"\n",
    "    if \":\" in tag:\n",
    "        match = re.match(pattern, tag)\n",
    "        if match:\n",
    "            tag_ = match.group(1)\n",
    "            return \"[\" + \"\".join(filter(lambda x: not x.isdigit(), tag_)).strip() + \"]\"\n",
    "    else:\n",
    "        return \"\".join(filter(lambda x: not x.isdigit(), tag)).strip()"
   ]
  },
  {
   "cell_type": "code",
   "execution_count": 54,
   "id": "62c1d51b",
   "metadata": {},
   "outputs": [],
   "source": [
    "refine_tags = {\n",
    "    \"[Chorus]\": \"[Chorus]\",\n",
    "    \"[Verse]\": \"[Verse]\",\n",
    "    \"[Bridge]\": \"[Bridge]\",\n",
    "    \"[Intro]\": \"[Intro]\",\n",
    "    \"[Outro]\": \"[Outro]\",\n",
    "    \"[Pre-Chorus]\": \"[Pre-Chorus]\",\n",
    "    \"[Post-Chorus]\": \"[Post-Chorus]\",\n",
    "    \"[Breakdown]\": \"[Breakdown]\",\n",
    "    \"[Verse ]\": \"[Verse]\",\n",
    "    \"[Chorus ]\": \"[Chorus]\",\n",
    "    \"[Instrumental Break]\": \"[Instrumental Break]\",\n",
    "    \"[Post-Bridge]\": \"[Post-Bridge]\",\n",
    "    \"[Pre-Chorus ]\": \"[Pre-Chorus]\",\n",
    "    \"[Refrain]\": \"[Refrain]\",\n",
    "    \"[Interlude]\": \"[Interlude]\",\n",
    "    \"[Spoken Intro]\": \"[Spoken Intro]\",\n",
    "    \"[Spoken Interlude]\": \"[Spoken Interlude]\",\n",
    "    \"[Drop]\": \"[Drop]\",\n",
    "    \"[Vocal bridge]\": \"[Bridge]\",\n",
    "    \"[Album Intro]\": \"[Album Intro]\",\n",
    "    \"[Break]\": \"[Break]\",\n",
    "    \"[Hook]\": \"[Hook]\",\n",
    "    \"[Pré-refrain ]\": \"[Refrain]\",\n",
    "    \"[Couplet ]\": \"[Couplet]\",\n",
    "    \"[Couplet .]\": \"[Couplet]\",\n",
    "    \"[Pre - Chorus]\": \"[Pre-Chorus]\",\n",
    "    \"[Chrous]\": \"[Chorus]\",\n",
    "    \"[Pre-Coro]\": \"[Pre-Chorus]\",\n",
    "    \"[Coro]\": \"[Chorus]\",\n",
    "    \"[Interludio]\": \"[Interlude]\",\n",
    "    \"[Puente]\": \"[Bridge]\",\n",
    "    \"[Verso]\": \"[Verse]\",\n",
    "    \"[Ending]\": \"[Ending]\",\n",
    "    \"[Instrumental Bridge]\": \"[Bridge]\",\n",
    "}"
   ]
  },
  {
   "cell_type": "code",
   "execution_count": 55,
   "id": "a41501e8-3d27-4830-b170-fadcf9ec9157",
   "metadata": {},
   "outputs": [
    {
     "data": {
      "text/plain": [
       "array(['[Verse]', '[Pre-Chorus]', '[Chorus]', '[Bridge]', '[Intro]',\n",
       "       '[Outro]', '[Post-Chorus]', '[Refrain]', '[Breakdown]', nan,\n",
       "       '[Interlude]', '[Hook]', '[Break]', '[Drop]', '[Spoken Intro]',\n",
       "       '[Post-Bridge]', '[Spoken Interlude]', '[Instrumental Break]',\n",
       "       '[Ending]', '[Album Intro]', '[Couplet]'], dtype=object)"
      ]
     },
     "execution_count": 55,
     "metadata": {},
     "output_type": "execute_result"
    }
   ],
   "source": [
    "df[\"tag_2\"] = df[\"tag\"].map(clean)\n",
    "df = df[df[\"tag_2\"] != \"\"]\n",
    "df = df[df[\"content\"] != \"\"]\n",
    "df = df[~df[[\"tag_2\", \"content\"]].isnull().any(axis=1)]\n",
    "df[\"tag_2\"] = df[\"tag_2\"].map(refine_tags)\n",
    "df[\"tag_2\"].unique()"
   ]
  },
  {
   "cell_type": "code",
   "execution_count": 56,
   "id": "fca75ce1",
   "metadata": {},
   "outputs": [
    {
     "data": {
      "image/png": "[encoded data removed]",
      "text/plain": [
       "<Figure size 1000x500 with 1 Axes>"
      ]
     },
     "metadata": {},
     "output_type": "display_data"
    }
   ],
   "source": [
    "fig = plt.figure(figsize=(10, 5))\n",
    "\n",
    "plt.bar(\n",
    "    df[\"tag_2\"].value_counts().keys().to_list(),\n",
    "    df[\"tag_2\"].value_counts().values,\n",
    "    width=0.4,\n",
    ")\n",
    "\n",
    "plt.xlabel(\"Part of song tag\")\n",
    "plt.ylabel(\"No. of instances\")\n",
    "plt.xticks(rotation=45, ha=\"right\")\n",
    "plt.show()"
   ]
  },
  {
   "cell_type": "code",
   "execution_count": 57,
   "id": "5ba89522-c597-4ff8-abaa-6bf07fd1ca12",
   "metadata": {},
   "outputs": [
    {
     "data": {
      "text/plain": [
       "['Mercy',\n",
       " 'So Good',\n",
       " 'Havana',\n",
       " 'Heaven',\n",
       " 'Cruel Summer',\n",
       " 'Medicine',\n",
       " 'Uh Huh',\n",
       " 'Can I',\n",
       " 'Take It Off',\n",
       " 'Bad Girlfriend']"
      ]
     },
     "execution_count": 57,
     "metadata": {},
     "output_type": "execute_result"
    }
   ],
   "source": [
    "test_songs = []\n",
    "\n",
    "random.seed(0)\n",
    "\n",
    "songs = df[[\"artist\", \"song\"]].drop_duplicates()\n",
    "for artist in songs[\"artist\"].unique():\n",
    "    test_songs.append(random.choice(songs[songs[\"artist\"] == artist][\"song\"].array))\n",
    "\n",
    "test_songs[:10]"
   ]
  },
  {
   "cell_type": "markdown",
   "id": "c58e3033",
   "metadata": {},
   "source": [
    "# Train Test Split"
   ]
  },
  {
   "cell_type": "code",
   "execution_count": 58,
   "id": "a3e75a0d-d58e-41e3-b514-0b5387fe97fc",
   "metadata": {},
   "outputs": [],
   "source": [
    "df_test = df[df[\"song\"].isin(test_songs)]\n",
    "df_train, df_val = train_test_split(df[~df[\"song\"].isin(test_songs)], train_size=0.8)"
   ]
  },
  {
   "cell_type": "code",
   "execution_count": 61,
   "id": "ef2b8e61-8870-40e6-b9ad-822f3323620d",
   "metadata": {},
   "outputs": [],
   "source": [
    "df_train.sort_values(by=[\"artist\", \"song\"]).to_csv(\n",
    "    \"./data/datasets/train.csv\", index=False\n",
    ")\n",
    "df_test.sort_values(by=[\"artist\", \"song\"]).to_csv(\n",
    "    \"./data/datasets/test.csv\", index=False\n",
    ")\n",
    "df_val.sort_values(by=[\"artist\", \"song\"]).to_csv(\"./data/datasets/val.csv\", index=False)"
   ]
  }
 ],
 "metadata": {
  "kernelspec": {
   "display_name": "Python 3 (ipykernel)",
   "language": "python",
   "name": "python3"
  },
  "language_info": {
   "codemirror_mode": {
    "name": "ipython",
    "version": 3
   },
   "file_extension": ".py",
   "mimetype": "text/x-python",
   "name": "python",
   "nbconvert_exporter": "python",
   "pygments_lexer": "ipython3",
   "version": "3.9.6"
  }
 },
 "nbformat": 4,
 "nbformat_minor": 5
}
