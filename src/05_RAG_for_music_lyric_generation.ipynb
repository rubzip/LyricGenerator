{
  "cells": [
    {
      "cell_type": "markdown",
      "metadata": {
        "id": "Njf3N1dDt074"
      },
      "source": []
    },
    {
      "cell_type": "markdown",
      "metadata": {
        "id": "EeolmfSKpa3X"
      },
      "source": [
        "# ⚙️ Setup"
      ]
    },
    {
      "cell_type": "code",
      "execution_count": 52,
      "metadata": {
        "colab": {
          "base_uri": "https://localhost:8080/"
        },
        "id": "pGlhU5NrsJjo",
        "outputId": "9fe3bdf5-c7fd-42f4-a8bb-3b4db490a77f"
      },
      "outputs": [],
      "source": [
        "# from google.colab import drive\n",
        "# drive.mount('/content/drive')"
      ]
    },
    {
      "cell_type": "code",
      "execution_count": 53,
      "metadata": {
        "id": "PBRL1MehWo7m"
      },
      "outputs": [],
      "source": [
        "localpath='data'"
      ]
    },
    {
      "cell_type": "code",
      "execution_count": 54,
      "metadata": {
        "colab": {
          "base_uri": "https://localhost:8080/"
        },
        "id": "LOhed0FwsHW0",
        "outputId": "ec8624ab-bf60-4373-8012-4e9b70a4a4da"
      },
      "outputs": [
        {
          "name": "stdout",
          "output_type": "stream",
          "text": [
            "Requirement already satisfied: transformers in ./apps2_project_venv/lib/python3.9/site-packages (4.41.0)\n",
            "Requirement already satisfied: huggingface-hub<1.0,>=0.23.0 in ./apps2_project_venv/lib/python3.9/site-packages (from transformers) (0.23.0)\n",
            "Requirement already satisfied: filelock in ./apps2_project_venv/lib/python3.9/site-packages (from transformers) (3.14.0)\n",
            "Requirement already satisfied: regex!=2019.12.17 in ./apps2_project_venv/lib/python3.9/site-packages (from transformers) (2024.5.15)\n",
            "Requirement already satisfied: tokenizers<0.20,>=0.19 in ./apps2_project_venv/lib/python3.9/site-packages (from transformers) (0.19.1)\n",
            "Requirement already satisfied: packaging>=20.0 in ./apps2_project_venv/lib/python3.9/site-packages (from transformers) (24.0)\n",
            "Requirement already satisfied: safetensors>=0.4.1 in ./apps2_project_venv/lib/python3.9/site-packages (from transformers) (0.4.3)\n",
            "Requirement already satisfied: pyyaml>=5.1 in ./apps2_project_venv/lib/python3.9/site-packages (from transformers) (6.0.1)\n",
            "Requirement already satisfied: requests in ./apps2_project_venv/lib/python3.9/site-packages (from transformers) (2.31.0)\n",
            "Requirement already satisfied: tqdm>=4.27 in ./apps2_project_venv/lib/python3.9/site-packages (from transformers) (4.66.4)\n",
            "Requirement already satisfied: numpy>=1.17 in ./apps2_project_venv/lib/python3.9/site-packages (from transformers) (1.26.4)\n",
            "Requirement already satisfied: typing-extensions>=3.7.4.3 in ./apps2_project_venv/lib/python3.9/site-packages (from huggingface-hub<1.0,>=0.23.0->transformers) (4.11.0)\n",
            "Requirement already satisfied: fsspec>=2023.5.0 in ./apps2_project_venv/lib/python3.9/site-packages (from huggingface-hub<1.0,>=0.23.0->transformers) (2024.5.0)\n",
            "Requirement already satisfied: urllib3<3,>=1.21.1 in ./apps2_project_venv/lib/python3.9/site-packages (from requests->transformers) (2.2.1)\n",
            "Requirement already satisfied: idna<4,>=2.5 in ./apps2_project_venv/lib/python3.9/site-packages (from requests->transformers) (3.7)\n",
            "Requirement already satisfied: certifi>=2017.4.17 in ./apps2_project_venv/lib/python3.9/site-packages (from requests->transformers) (2024.2.2)\n",
            "Requirement already satisfied: charset-normalizer<4,>=2 in ./apps2_project_venv/lib/python3.9/site-packages (from requests->transformers) (3.3.2)\n",
            "\u001b[33mWARNING: You are using pip version 21.2.4; however, version 24.0 is available.\n",
            "You should consider upgrading via the '/Users/mariaribalta/Documents/EHU/Applications_2/final_project/apps2_project_venv/bin/python3 -m pip install --upgrade pip' command.\u001b[0m\n",
            "Requirement already satisfied: bitsandbytes in ./apps2_project_venv/lib/python3.9/site-packages (0.42.0)\n",
            "Requirement already satisfied: accelerate in ./apps2_project_venv/lib/python3.9/site-packages (0.30.1)\n",
            "Requirement already satisfied: scipy in ./apps2_project_venv/lib/python3.9/site-packages (from bitsandbytes) (1.13.0)\n",
            "Requirement already satisfied: safetensors>=0.3.1 in ./apps2_project_venv/lib/python3.9/site-packages (from accelerate) (0.4.3)\n",
            "Requirement already satisfied: torch>=1.10.0 in ./apps2_project_venv/lib/python3.9/site-packages (from accelerate) (2.3.0)\n",
            "Requirement already satisfied: pyyaml in ./apps2_project_venv/lib/python3.9/site-packages (from accelerate) (6.0.1)\n",
            "Requirement already satisfied: huggingface-hub in ./apps2_project_venv/lib/python3.9/site-packages (from accelerate) (0.23.0)\n",
            "Requirement already satisfied: numpy>=1.17 in ./apps2_project_venv/lib/python3.9/site-packages (from accelerate) (1.26.4)\n",
            "Requirement already satisfied: psutil in ./apps2_project_venv/lib/python3.9/site-packages (from accelerate) (5.9.8)\n",
            "Requirement already satisfied: packaging>=20.0 in ./apps2_project_venv/lib/python3.9/site-packages (from accelerate) (24.0)\n",
            "Requirement already satisfied: typing-extensions>=4.8.0 in ./apps2_project_venv/lib/python3.9/site-packages (from torch>=1.10.0->accelerate) (4.11.0)\n",
            "Requirement already satisfied: networkx in ./apps2_project_venv/lib/python3.9/site-packages (from torch>=1.10.0->accelerate) (3.2.1)\n",
            "Requirement already satisfied: jinja2 in ./apps2_project_venv/lib/python3.9/site-packages (from torch>=1.10.0->accelerate) (3.1.4)\n",
            "Requirement already satisfied: filelock in ./apps2_project_venv/lib/python3.9/site-packages (from torch>=1.10.0->accelerate) (3.14.0)\n",
            "Requirement already satisfied: fsspec in ./apps2_project_venv/lib/python3.9/site-packages (from torch>=1.10.0->accelerate) (2024.5.0)\n",
            "Requirement already satisfied: sympy in ./apps2_project_venv/lib/python3.9/site-packages (from torch>=1.10.0->accelerate) (1.12)\n",
            "Requirement already satisfied: requests in ./apps2_project_venv/lib/python3.9/site-packages (from huggingface-hub->accelerate) (2.31.0)\n",
            "Requirement already satisfied: tqdm>=4.42.1 in ./apps2_project_venv/lib/python3.9/site-packages (from huggingface-hub->accelerate) (4.66.4)\n",
            "Requirement already satisfied: MarkupSafe>=2.0 in ./apps2_project_venv/lib/python3.9/site-packages (from jinja2->torch>=1.10.0->accelerate) (2.1.5)\n",
            "Requirement already satisfied: urllib3<3,>=1.21.1 in ./apps2_project_venv/lib/python3.9/site-packages (from requests->huggingface-hub->accelerate) (2.2.1)\n",
            "Requirement already satisfied: certifi>=2017.4.17 in ./apps2_project_venv/lib/python3.9/site-packages (from requests->huggingface-hub->accelerate) (2024.2.2)\n",
            "Requirement already satisfied: charset-normalizer<4,>=2 in ./apps2_project_venv/lib/python3.9/site-packages (from requests->huggingface-hub->accelerate) (3.3.2)\n",
            "Requirement already satisfied: idna<4,>=2.5 in ./apps2_project_venv/lib/python3.9/site-packages (from requests->huggingface-hub->accelerate) (3.7)\n",
            "Requirement already satisfied: mpmath>=0.19 in ./apps2_project_venv/lib/python3.9/site-packages (from sympy->torch>=1.10.0->accelerate) (1.3.0)\n",
            "\u001b[33mWARNING: You are using pip version 21.2.4; however, version 24.0 is available.\n",
            "You should consider upgrading via the '/Users/mariaribalta/Documents/EHU/Applications_2/final_project/apps2_project_venv/bin/python3 -m pip install --upgrade pip' command.\u001b[0m\n",
            "Requirement already satisfied: Whoosh in ./apps2_project_venv/lib/python3.9/site-packages (2.7.4)\n",
            "\u001b[33mWARNING: You are using pip version 21.2.4; however, version 24.0 is available.\n",
            "You should consider upgrading via the '/Users/mariaribalta/Documents/EHU/Applications_2/final_project/apps2_project_venv/bin/python3 -m pip install --upgrade pip' command.\u001b[0m\n"
          ]
        }
      ],
      "source": [
        "!pip install -U transformers\n",
        "!pip install bitsandbytes accelerate\n",
        "!pip install Whoosh # search engine library"
      ]
    },
    {
      "cell_type": "code",
      "execution_count": null,
      "metadata": {},
      "outputs": [],
      "source": [
        "!pip install mistralai"
      ]
    },
    {
      "cell_type": "code",
      "execution_count": 55,
      "metadata": {
        "colab": {
          "base_uri": "https://localhost:8080/"
        },
        "id": "02g94DeiaZrj",
        "outputId": "9ba6286b-e650-48cc-e9df-4ce60642b474"
      },
      "outputs": [],
      "source": [
        "# !pip install colbert-ai[torch,faiss-gpu]"
      ]
    },
    {
      "cell_type": "code",
      "execution_count": 56,
      "metadata": {
        "id": "PoWVkFpipdfx"
      },
      "outputs": [],
      "source": [
        "import pandas as pd\n",
        "from pprint import pprint\n",
        "pd.set_option('display.expand_frame_repr', False)\n",
        "pd.set_option('max_colwidth', 800)"
      ]
    },
    {
      "cell_type": "code",
      "execution_count": 57,
      "metadata": {},
      "outputs": [],
      "source": [
        "from groq import Groq\n",
        "from dotenv import load_dotenv\n",
        "import os\n",
        "import json"
      ]
    },
    {
      "cell_type": "code",
      "execution_count": 58,
      "metadata": {
        "id": "60R_y9IEphM-"
      },
      "outputs": [
        {
          "name": "stderr",
          "output_type": "stream",
          "text": [
            "/var/folders/b5/zsgbxty17rn21slqnmj3c2t00000gn/T/ipykernel_19094/1853117247.py:2: DeprecationWarning: Importing display from IPython.core.display is deprecated since IPython 7.14, please import from IPython display\n",
            "  from IPython.core.display import display, HTML # object displaying in different formats\n"
          ]
        }
      ],
      "source": [
        "import codecs # base classes for standard Python codecs, like text encodings (UTF-8,...)\n",
        "from IPython.core.display import display, HTML # object displaying in different formats\n",
        "from whoosh.index import * # whoosh: full-text indexing and searching\n",
        "from whoosh.fields import *\n",
        "from whoosh import qparser\n",
        "import glob\n",
        "import random\n",
        "import torch\n",
        "import numpy as np\n",
        "import os"
      ]
    },
    {
      "cell_type": "code",
      "execution_count": 15,
      "metadata": {
        "id": "UgYftuUlijNy"
      },
      "outputs": [
        {
          "name": "stderr",
          "output_type": "stream",
          "text": [
            "/Users/mariaribalta/Documents/EHU/Applications_2/final_project/apps2_project_venv/lib/python3.9/site-packages/urllib3/__init__.py:35: NotOpenSSLWarning: urllib3 v2 only supports OpenSSL 1.1.1+, currently the 'ssl' module is compiled with 'LibreSSL 2.8.3'. See: https://github.com/urllib3/urllib3/issues/3020\n",
            "  warnings.warn(\n",
            "/Users/mariaribalta/Documents/EHU/Applications_2/final_project/apps2_project_venv/lib/python3.9/site-packages/tqdm/auto.py:21: TqdmWarning: IProgress not found. Please update jupyter and ipywidgets. See https://ipywidgets.readthedocs.io/en/stable/user_install.html\n",
            "  from .autonotebook import tqdm as notebook_tqdm\n"
          ]
        }
      ],
      "source": [
        "import torch\n",
        "from transformers import AutoTokenizer, AutoModelForCausalLM, BitsAndBytesConfig"
      ]
    },
    {
      "cell_type": "code",
      "execution_count": null,
      "metadata": {},
      "outputs": [],
      "source": [
        "load_dotenv()"
      ]
    },
    {
      "cell_type": "code",
      "execution_count": null,
      "metadata": {},
      "outputs": [],
      "source": [
        "from mistralai.client import MistralClient\n",
        "from mistralai.models.chat_completion import ChatMessage\n",
        "import os\n",
        "import pandas as pd"
      ]
    },
    {
      "cell_type": "markdown",
      "metadata": {
        "id": "jyH1v2CEieqR"
      },
      "source": [
        "# 📚 Data Extraction"
      ]
    },
    {
      "cell_type": "code",
      "execution_count": 59,
      "metadata": {
        "colab": {
          "base_uri": "https://localhost:8080/"
        },
        "id": "PhbA9gVRXZiY",
        "outputId": "1ecddbab-bb4a-41b0-ca61-4f85eda6eca4"
      },
      "outputs": [
        {
          "name": "stdout",
          "output_type": "stream",
          "text": [
            "fatal: destination path 'LyricGenerator' already exists and is not an empty directory.\n"
          ]
        }
      ],
      "source": [
        "!git clone https://github.com/rubzip/LyricGenerator.git"
      ]
    },
    {
      "cell_type": "code",
      "execution_count": 60,
      "metadata": {
        "id": "Vsla-b4zGzKh"
      },
      "outputs": [],
      "source": [
        "datapath = 'LyricGenerator/data/datasets'\n",
        "train = pd.read_csv(f'{datapath}/train.csv')\n",
        "dev = pd.read_csv(f'{datapath}/val.csv')\n",
        "test = pd.read_csv(f'{datapath}/test.csv')"
      ]
    },
    {
      "cell_type": "code",
      "execution_count": 61,
      "metadata": {
        "id": "lVlRWowvJeWm"
      },
      "outputs": [],
      "source": [
        "db_stored_info_fn = lambda row: f\"artist: {row['artist']}, title: {row['song']}, tag: {row['tag_2']}, content: {row['content']}\""
      ]
    },
    {
      "cell_type": "code",
      "execution_count": 62,
      "metadata": {
        "id": "cF23KUWUIOa7"
      },
      "outputs": [],
      "source": [
        "train['db_stored_info'] = train.apply(db_stored_info_fn, axis=1)\n",
        "dev['db_stored_info'] = dev.apply(db_stored_info_fn, axis=1)"
      ]
    },
    {
      "cell_type": "code",
      "execution_count": 63,
      "metadata": {
        "colab": {
          "base_uri": "https://localhost:8080/"
        },
        "id": "o_bmrDLWJEza",
        "outputId": "f73b9bb7-680f-49a2-d4f5-19dab3036398"
      },
      "outputs": [
        {
          "data": {
            "text/html": [
              "<div>\n",
              "<style scoped>\n",
              "    .dataframe tbody tr th:only-of-type {\n",
              "        vertical-align: middle;\n",
              "    }\n",
              "\n",
              "    .dataframe tbody tr th {\n",
              "        vertical-align: top;\n",
              "    }\n",
              "\n",
              "    .dataframe thead th {\n",
              "        text-align: right;\n",
              "    }\n",
              "</style>\n",
              "<table border=\"1\" class=\"dataframe\">\n",
              "  <thead>\n",
              "    <tr style=\"text-align: right;\">\n",
              "      <th></th>\n",
              "      <th>artist</th>\n",
              "      <th>song</th>\n",
              "      <th>tag</th>\n",
              "      <th>content</th>\n",
              "      <th>tag_2</th>\n",
              "      <th>db_stored_info</th>\n",
              "    </tr>\n",
              "  </thead>\n",
              "  <tbody>\n",
              "    <tr>\n",
              "      <th>0</th>\n",
              "      <td>5 Seconds of Summer</td>\n",
              "      <td>Easier</td>\n",
              "      <td>[Outro: All, Luke]</td>\n",
              "      <td>I love you so much that I hate you (Hate you)\\nRight now, it's so hard to blame you\\n'Cause you're so damn beautiful</td>\n",
              "      <td>[Outro]</td>\n",
              "      <td>artist: 5 Seconds of Summer, title: Easier, tag: [Outro], content: I love you so much that I hate you (Hate you)\\nRight now, it's so hard to blame you\\n'Cause you're so damn beautiful</td>\n",
              "    </tr>\n",
              "    <tr>\n",
              "      <th>1</th>\n",
              "      <td>5 Seconds of Summer</td>\n",
              "      <td>Easier</td>\n",
              "      <td>[Verse 1: Luke]</td>\n",
              "      <td>Why do we always gotta run away?\\nAnd we wind up in the same place\\nIt's like we're looking for the same thing\\nSame thing, yeah\\nYeah, do we really gotta do this now?\\nRight here with all your friends around\\nIn the morning, we can work it out\\nWork it out</td>\n",
              "      <td>[Verse]</td>\n",
              "      <td>artist: 5 Seconds of Summer, title: Easier, tag: [Verse], content: Why do we always gotta run away?\\nAnd we wind up in the same place\\nIt's like we're looking for the same thing\\nSame thing, yeah\\nYeah, do we really gotta do this now?\\nRight here with all your friends around\\nIn the morning, we can work it out\\nWork it out</td>\n",
              "    </tr>\n",
              "    <tr>\n",
              "      <th>2</th>\n",
              "      <td>5 Seconds of Summer</td>\n",
              "      <td>Easier</td>\n",
              "      <td>[Bridge: Luke]</td>\n",
              "      <td>The hardest part of all (Da-da-da-dum-da-da-da-da)\\nIs that we're only built to fall (Is it easier?)</td>\n",
              "      <td>[Bridge]</td>\n",
              "      <td>artist: 5 Seconds of Summer, title: Easier, tag: [Bridge], content: The hardest part of all (Da-da-da-dum-da-da-da-da)\\nIs that we're only built to fall (Is it easier?)</td>\n",
              "    </tr>\n",
              "    <tr>\n",
              "      <th>3</th>\n",
              "      <td>5 Seconds of Summer</td>\n",
              "      <td>Easier</td>\n",
              "      <td>[Pre-Chorus: All, Luke]</td>\n",
              "      <td>I love you so much that I hate you\\nRight now, it's so hard to blame you\\n'Cause you're so damn beautiful\\nSo damn beautiful</td>\n",
              "      <td>[Pre-Chorus]</td>\n",
              "      <td>artist: 5 Seconds of Summer, title: Easier, tag: [Pre-Chorus], content: I love you so much that I hate you\\nRight now, it's so hard to blame you\\n'Cause you're so damn beautiful\\nSo damn beautiful</td>\n",
              "    </tr>\n",
              "    <tr>\n",
              "      <th>4</th>\n",
              "      <td>5 Seconds of Summer</td>\n",
              "      <td>Easier</td>\n",
              "      <td>[Intro: Luke]</td>\n",
              "      <td>Is it easier to stay? Is it easier to go?\\nI don't wanna know, oh\\nBut I know that I'm never, ever gonna change\\nAnd you know you don't want it any other way</td>\n",
              "      <td>[Intro]</td>\n",
              "      <td>artist: 5 Seconds of Summer, title: Easier, tag: [Intro], content: Is it easier to stay? Is it easier to go?\\nI don't wanna know, oh\\nBut I know that I'm never, ever gonna change\\nAnd you know you don't want it any other way</td>\n",
              "    </tr>\n",
              "  </tbody>\n",
              "</table>\n",
              "</div>"
            ],
            "text/plain": [
              "                artist    song                      tag                                                                                                                                                                                                                                                            content         tag_2                                                                                                                                                                                                                                                                                                                        db_stored_info\n",
              "0  5 Seconds of Summer  Easier       [Outro: All, Luke]                                                                                                                                               I love you so much that I hate you (Hate you)\\nRight now, it's so hard to blame you\\n'Cause you're so damn beautiful       [Outro]                                                                                                                                               artist: 5 Seconds of Summer, title: Easier, tag: [Outro], content: I love you so much that I hate you (Hate you)\\nRight now, it's so hard to blame you\\n'Cause you're so damn beautiful\n",
              "1  5 Seconds of Summer  Easier          [Verse 1: Luke]  Why do we always gotta run away?\\nAnd we wind up in the same place\\nIt's like we're looking for the same thing\\nSame thing, yeah\\nYeah, do we really gotta do this now?\\nRight here with all your friends around\\nIn the morning, we can work it out\\nWork it out       [Verse]  artist: 5 Seconds of Summer, title: Easier, tag: [Verse], content: Why do we always gotta run away?\\nAnd we wind up in the same place\\nIt's like we're looking for the same thing\\nSame thing, yeah\\nYeah, do we really gotta do this now?\\nRight here with all your friends around\\nIn the morning, we can work it out\\nWork it out\n",
              "2  5 Seconds of Summer  Easier           [Bridge: Luke]                                                                                                                                                               The hardest part of all (Da-da-da-dum-da-da-da-da)\\nIs that we're only built to fall (Is it easier?)      [Bridge]                                                                                                                                                              artist: 5 Seconds of Summer, title: Easier, tag: [Bridge], content: The hardest part of all (Da-da-da-dum-da-da-da-da)\\nIs that we're only built to fall (Is it easier?)\n",
              "3  5 Seconds of Summer  Easier  [Pre-Chorus: All, Luke]                                                                                                                                       I love you so much that I hate you\\nRight now, it's so hard to blame you\\n'Cause you're so damn beautiful\\nSo damn beautiful  [Pre-Chorus]                                                                                                                                  artist: 5 Seconds of Summer, title: Easier, tag: [Pre-Chorus], content: I love you so much that I hate you\\nRight now, it's so hard to blame you\\n'Cause you're so damn beautiful\\nSo damn beautiful\n",
              "4  5 Seconds of Summer  Easier            [Intro: Luke]                                                                                                      Is it easier to stay? Is it easier to go?\\nI don't wanna know, oh\\nBut I know that I'm never, ever gonna change\\nAnd you know you don't want it any other way       [Intro]                                                                                                      artist: 5 Seconds of Summer, title: Easier, tag: [Intro], content: Is it easier to stay? Is it easier to go?\\nI don't wanna know, oh\\nBut I know that I'm never, ever gonna change\\nAnd you know you don't want it any other way"
            ]
          },
          "execution_count": 63,
          "metadata": {},
          "output_type": "execute_result"
        }
      ],
      "source": [
        "train.head()"
      ]
    },
    {
      "cell_type": "code",
      "execution_count": 21,
      "metadata": {
        "id": "qnCC5uGoJrqb"
      },
      "outputs": [],
      "source": [
        "collection = train['db_stored_info'].to_list() + dev['db_stored_info'].to_list()"
      ]
    },
    {
      "cell_type": "markdown",
      "metadata": {
        "id": "VfYvrZHiFhF7"
      },
      "source": [
        "# ✏️ Database Generation"
      ]
    },
    {
      "cell_type": "code",
      "execution_count": 66,
      "metadata": {
        "id": "EhjFtC2QGdHG"
      },
      "outputs": [
        {
          "ename": "ImportError",
          "evalue": "cannot import name 'Indexer' from 'colbert' (/Users/mariaribalta/Documents/EHU/Applications_2/final_project/apps2_project_venv/lib/python3.9/site-packages/colbert/__init__.py)",
          "output_type": "error",
          "traceback": [
            "\u001b[0;31m---------------------------------------------------------------------------\u001b[0m",
            "\u001b[0;31mImportError\u001b[0m                               Traceback (most recent call last)",
            "Cell \u001b[0;32mIn[66], line 1\u001b[0m\n\u001b[0;32m----> 1\u001b[0m \u001b[38;5;28;01mfrom\u001b[39;00m \u001b[38;5;21;01mcolbert\u001b[39;00m \u001b[38;5;28;01mimport\u001b[39;00m Indexer, Searcher\n\u001b[1;32m      2\u001b[0m \u001b[38;5;28;01mfrom\u001b[39;00m \u001b[38;5;21;01mcolbert\u001b[39;00m\u001b[38;5;21;01m.\u001b[39;00m\u001b[38;5;21;01minfra\u001b[39;00m \u001b[38;5;28;01mimport\u001b[39;00m Run, RunConfig, ColBERTConfig\n\u001b[1;32m      3\u001b[0m \u001b[38;5;28;01mfrom\u001b[39;00m \u001b[38;5;21;01mcolbert\u001b[39;00m\u001b[38;5;21;01m.\u001b[39;00m\u001b[38;5;21;01mdata\u001b[39;00m \u001b[38;5;28;01mimport\u001b[39;00m Queries, Collection\n",
            "\u001b[0;31mImportError\u001b[0m: cannot import name 'Indexer' from 'colbert' (/Users/mariaribalta/Documents/EHU/Applications_2/final_project/apps2_project_venv/lib/python3.9/site-packages/colbert/__init__.py)"
          ]
        }
      ],
      "source": [
        "from colbert import Indexer, Searcher\n",
        "from colbert.infra import Run, RunConfig, ColBERTConfig\n",
        "from colbert.data import Queries, Collection"
      ]
    },
    {
      "cell_type": "code",
      "execution_count": null,
      "metadata": {
        "id": "B-rtAMA3eov4"
      },
      "outputs": [],
      "source": [
        "class Colbert_IR():\n",
        "  def __init__(self, checkpoint: str, collection: list[str], index_name: str, doc_maxlen: int = 300, nbits: int = 2):\n",
        "    self.nbits = nbits\n",
        "    self.doc_maxlen = doc_maxlen\n",
        "    self.index_name = index_name\n",
        "    self.collection = collection\n",
        "    self.checkpoint = checkpoint\n",
        "\n",
        "    with Run().context(RunConfig(nranks=1, experiment='notebook')):\n",
        "      config = ColBERTConfig(doc_maxlen=self.doc_maxlen, nbits=self.nbits, kmeans_niters=4)\n",
        "\n",
        "      self.indexer = Indexer(checkpoint=self.checkpoint, config=config)\n",
        "      self.indexer.index(name=self.index_name, collection=self.collection, overwrite=True)\n",
        "\n",
        "    with Run().context(RunConfig(experiment='notebook')):\n",
        "      self.searcher = Searcher(index=index_name, collection=collection)\n",
        "\n",
        "\n",
        "  def retrieve_documents(self, query: str, topk:int=3):\n",
        "    ids, ranks, scores = self.searcher.search(query, k=topk)\n",
        "    passages = [self.searcher.collection[id] for id in ids]\n",
        "\n",
        "    return passages, scores\n"
      ]
    },
    {
      "cell_type": "code",
      "execution_count": null,
      "metadata": {
        "id": "7MsxeicHJXJY"
      },
      "outputs": [],
      "source": [
        "checkpoint = 'colbert-ir/colbertv2.0'\n",
        "index_name = 'songs_index'"
      ]
    },
    {
      "cell_type": "code",
      "execution_count": null,
      "metadata": {
        "colab": {
          "base_uri": "https://localhost:8080/",
          "height": 364,
          "referenced_widgets": [
            "23aaddd414a04de7bc9f509c7f3efa27",
            "87d040380c264ee1a673dfb339cd8fee",
            "266918385e164374a30d1481f575042d",
            "d03cff6529f34e4da387f34379d70b84",
            "8107dacb40f141d68c6838fe4353bd93",
            "7a1270b363d84b459f9d76e6ee3d0aed",
            "f951fd3175cb4e2ab98913aeee592914",
            "f3b69e1599a74bd7ba18f832e5c9916a",
            "786b7c33ca1e49a3b89e656c80ec730f",
            "603f05d03e854d57a06f7ef4760cfa73",
            "28c7af923d9b44e5a3d3c476404ea734"
          ]
        },
        "id": "Swj0kvKPJXk-",
        "outputId": "44003c98-2386-4163-d863-a5dd3f78f3f2"
      },
      "outputs": [
        {
          "data": {
            "application/vnd.jupyter.widget-view+json": {
              "model_id": "23aaddd414a04de7bc9f509c7f3efa27",
              "version_major": 2,
              "version_minor": 0
            },
            "text/plain": [
              "artifact.metadata:   0%|          | 0.00/1.63k [00:00<?, ?B/s]"
            ]
          },
          "metadata": {},
          "output_type": "display_data"
        },
        {
          "name": "stdout",
          "output_type": "stream",
          "text": [
            "\n",
            "\n",
            "[May 19, 13:43:29] #> Creating directory /content/experiments/notebook/indexes/songs_index \n",
            "\n",
            "\n",
            "#> Starting...\n",
            "#> Joined...\n"
          ]
        },
        {
          "name": "stderr",
          "output_type": "stream",
          "text": [
            "/usr/local/lib/python3.10/dist-packages/huggingface_hub/file_download.py:1132: FutureWarning: `resume_download` is deprecated and will be removed in version 1.0.0. Downloads always resume when possible. If you want to force a new download, use `force_download=True`.\n",
            "  warnings.warn(\n"
          ]
        },
        {
          "name": "stdout",
          "output_type": "stream",
          "text": [
            "[May 19, 13:48:19] #> Loading codec...\n",
            "[May 19, 13:48:19] Loading decompress_residuals_cpp extension (set COLBERT_LOAD_TORCH_EXTENSION_VERBOSE=True for more info)...\n",
            "[May 19, 13:48:19] Loading packbits_cpp extension (set COLBERT_LOAD_TORCH_EXTENSION_VERBOSE=True for more info)...\n",
            "[May 19, 13:48:19] #> Loading IVF...\n",
            "[May 19, 13:48:19] #> Loading doclens...\n"
          ]
        },
        {
          "name": "stderr",
          "output_type": "stream",
          "text": [
            "100%|██████████| 1/1 [00:00<00:00, 1569.14it/s]"
          ]
        },
        {
          "name": "stdout",
          "output_type": "stream",
          "text": [
            "[May 19, 13:48:19] #> Loading codes and residuals...\n"
          ]
        },
        {
          "name": "stderr",
          "output_type": "stream",
          "text": [
            "\n",
            "100%|██████████| 1/1 [00:00<00:00, 38.41it/s]\n"
          ]
        }
      ],
      "source": [
        "colbert_ir = Colbert_IR(checkpoint, collection, index_name)"
      ]
    },
    {
      "cell_type": "markdown",
      "metadata": {
        "id": "tLBUQxEnQucv"
      },
      "source": [
        "# 📄 Gemma Baseline Song Generation"
      ]
    },
    {
      "cell_type": "code",
      "execution_count": 75,
      "metadata": {},
      "outputs": [],
      "source": [
        "test['prompt_baseline_gemma'] = test.apply(lambda row: f'Write the {row[\"tag_2\"]} of a song titled \"{row[\"song\"]}\" in the style of \"{row[\"artist\"]}\". Generate only 4 sentences.', axis=1)"
      ]
    },
    {
      "cell_type": "code",
      "execution_count": null,
      "metadata": {},
      "outputs": [],
      "source": [
        "client = Groq()"
      ]
    },
    {
      "cell_type": "code",
      "execution_count": 76,
      "metadata": {
        "id": "aZ5hKEEZS9WN"
      },
      "outputs": [],
      "source": [
        "def ask_gemma(input_data: list[str], outfile: str, last_idx: int, max_rows: int):\n",
        "  with open(outfile, 'w') as output_file:\n",
        "      output_file.write('[')\n",
        "      for i in range(last_idx, len(input_data[:max_rows])):\n",
        "          try:\n",
        "              sample = [{'role':'user', 'content': input_data[i]}]\n",
        "              chat_completion = client.chat.completions.create(\n",
        "                  messages=sample,\n",
        "                  model=\"gemma-7b-it\",\n",
        "                  temperature=0.5,\n",
        "                  max_tokens=1024,\n",
        "                  top_p=1,\n",
        "                  stop=None,\n",
        "                  stream=False,\n",
        "              )\n",
        "              answer = chat_completion.choices[0].message.content\n",
        "\n",
        "              output_sample = {'sentence': sample[-1]['content'],'generated_content': answer, 'id': i}\n",
        "\n",
        "              output_file.write(json.dumps(output_sample))\n",
        "\n",
        "              if i != (max_rows - 1):\n",
        "                  output_file.write(',')\n",
        "          except:\n",
        "              print('next start by:')\n",
        "              print(i + 1)\n",
        "              break\n",
        "      output_file.write(']')"
      ]
    },
    {
      "cell_type": "code",
      "execution_count": 87,
      "metadata": {},
      "outputs": [],
      "source": [
        "last_idx = 195\n",
        "max_rows = 196\n",
        "outfile = f'output_gemma_baseline/{last_idx}_starting_row.json'\n",
        "input_data = test['prompt_baseline_gemma'].to_list()\n",
        "\n",
        "ask_gemma(input_data, outfile, last_idx, max_rows)"
      ]
    },
    {
      "cell_type": "code",
      "execution_count": 110,
      "metadata": {},
      "outputs": [],
      "source": [
        "def recover_all_files(path: str):\n",
        "    files_content = []\n",
        "\n",
        "    for filename in os.listdir(path):\n",
        "        if filename.endswith('.json'):\n",
        "            with open(f\"{path}/{filename}\") as infile:\n",
        "                file_content = json.load(infile)\n",
        "                files_content += file_content\n",
        "    return pd.DataFrame(files_content).sort_values(by=\"id\").reset_index(drop=True)"
      ]
    },
    {
      "cell_type": "code",
      "execution_count": 111,
      "metadata": {},
      "outputs": [],
      "source": [
        "gemma_baseline_files = recover_all_files('output_gemma_baseline')\n",
        "gemma_baseline_df = pd.concat([test, gemma_baseline_files], axis=1)\n",
        "assert all(gemma_baseline_df.index == gemma_baseline_df.id)"
      ]
    },
    {
      "cell_type": "code",
      "execution_count": 112,
      "metadata": {},
      "outputs": [],
      "source": [
        "gemma_baseline_df.to_csv('output_gemma_baseline/gemma_baseline_generated_content.csv', index=False)"
      ]
    },
    {
      "cell_type": "markdown",
      "metadata": {
        "id": "5kUdudkcFO7r"
      },
      "source": [
        "# 📝 Gemma RAG Song Generation"
      ]
    },
    {
      "cell_type": "code",
      "execution_count": null,
      "metadata": {},
      "outputs": [],
      "source": [
        "test['prompt_baseline_gemma'] = test.apply(lambda row: f'Write the {row[\"tag_2\"]} of a song titled \"{row[\"song\"]}\" in the style of \"{row[\"artist\"]}\". Generate only 4 sentences.', axis=1)"
      ]
    },
    {
      "cell_type": "code",
      "execution_count": null,
      "metadata": {},
      "outputs": [],
      "source": [
        "client = Groq()"
      ]
    },
    {
      "cell_type": "code",
      "execution_count": null,
      "metadata": {
        "id": "12gRVT9dtTaE"
      },
      "outputs": [],
      "source": [
        "class gemma_QA:\n",
        "    def __init__(self, ir_class, groq_client, model):\n",
        "        self.ir = ir_class\n",
        "        self.client = groq_client\n",
        "        self.model = model\n",
        "\n",
        "    def template_builder(self, query, retrieved_info):\n",
        "      return [{ \"role\": \"user\", \"content\": f\"{query} You can get inspired by: {retrieved_info}. Make it 4 sentences only.\"}]\n",
        "\n",
        "    def answer_question_batch(self, queries: list[str], outfile: str, last_idx: int, max_rows: int, topk:int=10,):\n",
        "      with open(outfile, 'w') as output_file:\n",
        "        output_file.write('[')\n",
        "        for i in range(last_idx, len(input_data[:max_rows])):\n",
        "            try:\n",
        "                sample = queries[i]\n",
        "                retrieved_info, scores = self.ir.retrieve_documents(sample, topk)\n",
        "                retrieved_info = '\\n'.join(retrieved_info)\n",
        "\n",
        "                input = self.template_builder(sample, retrieved_info)\n",
        "\n",
        "                chat_completion = client.chat.completions.create(\n",
        "                    messages=input,\n",
        "                    model=self.model,\n",
        "                    temperature=0.5,\n",
        "                    max_tokens=1024,\n",
        "                    top_p=1,\n",
        "                    stop=None,\n",
        "                    stream=False,\n",
        "                )\n",
        "\n",
        "                answer = chat_completion.choices[0].message.content\n",
        "\n",
        "                output_sample = {'sentence': sample, 'generated_content': answer, 'id': i}\n",
        "\n",
        "                output_file.write(json.dumps(output_sample))\n",
        "\n",
        "                if i != (max_rows - 1):\n",
        "                    output_file.write(',')\n",
        "            except:\n",
        "                print('next start by:')\n",
        "                print(i + 1)\n",
        "                break\n",
        "        output_file.write(']')"
      ]
    },
    {
      "cell_type": "code",
      "execution_count": null,
      "metadata": {
        "id": "VMAsJP6aQZIL"
      },
      "outputs": [],
      "source": [
        "def template_builder(query, retrieved_info):\n",
        "  return [\n",
        "    { \"role\": \"user\", \"content\": f\" {query} Maybe this helps: {retrieved_info}. Make it short\"},\n",
        "  ]"
      ]
    },
    {
      "cell_type": "code",
      "execution_count": null,
      "metadata": {
        "id": "zVj3g4qag3Le"
      },
      "outputs": [],
      "source": [
        "gemma_qa = gemma_QA(colbert_ir, client, \"gemma-7b-it\")"
      ]
    },
    {
      "cell_type": "code",
      "execution_count": null,
      "metadata": {
        "id": "i3_8AUAxwNEQ"
      },
      "outputs": [],
      "source": [
        "last_idx = 0\n",
        "max_rows = 962\n",
        "outfile = f'{localpath}/output/{last_idx}_starting_row.json'\n",
        "input_data = test['prompt_baseline_gemma'].to_list()\n",
        "\n",
        "gemma_qa.answer_question_batch(input_data, outfile, last_idx, max_rows)"
      ]
    },
    {
      "cell_type": "code",
      "execution_count": 114,
      "metadata": {
        "colab": {
          "base_uri": "https://localhost:8080/",
          "height": 53
        },
        "id": "IjvqOA0kwwAs",
        "outputId": "6e6d7940-a690-419a-8ed7-e697a2c8f727"
      },
      "outputs": [],
      "source": [
        "gemma_rag_files = recover_all_files('output_gemma_rag')"
      ]
    },
    {
      "cell_type": "code",
      "execution_count": 117,
      "metadata": {},
      "outputs": [],
      "source": [
        "gemma_rag_files_df = pd.concat([test, gemma_rag_files], axis=1)\n",
        "assert all(gemma_rag_files_df.index == gemma_rag_files_df.id)"
      ]
    },
    {
      "cell_type": "code",
      "execution_count": 118,
      "metadata": {},
      "outputs": [
        {
          "data": {
            "text/html": [
              "<div>\n",
              "<style scoped>\n",
              "    .dataframe tbody tr th:only-of-type {\n",
              "        vertical-align: middle;\n",
              "    }\n",
              "\n",
              "    .dataframe tbody tr th {\n",
              "        vertical-align: top;\n",
              "    }\n",
              "\n",
              "    .dataframe thead th {\n",
              "        text-align: right;\n",
              "    }\n",
              "</style>\n",
              "<table border=\"1\" class=\"dataframe\">\n",
              "  <thead>\n",
              "    <tr style=\"text-align: right;\">\n",
              "      <th></th>\n",
              "      <th>artist</th>\n",
              "      <th>song</th>\n",
              "      <th>tag</th>\n",
              "      <th>content</th>\n",
              "      <th>tag_2</th>\n",
              "      <th>prompt_baseline_gemma</th>\n",
              "      <th>sentence</th>\n",
              "      <th>generated_content</th>\n",
              "      <th>id</th>\n",
              "    </tr>\n",
              "  </thead>\n",
              "  <tbody>\n",
              "    <tr>\n",
              "      <th>0</th>\n",
              "      <td>5 Seconds of Summer</td>\n",
              "      <td>No Shame</td>\n",
              "      <td>[Verse 1: Luke]</td>\n",
              "      <td>Angel, with the gun in your hand\\nPointin' my direction, givin' me affection\\nLove is fatal, won't you give it a chance?\\nCenter of attention, don't you ask me any questions</td>\n",
              "      <td>[Verse]</td>\n",
              "      <td>Write the [Verse] of a song titled \"No Shame\" in the style of \"5 Seconds of Summer\". Generate only 4 sentences.</td>\n",
              "      <td>Write the [Verse] of a song titled \"No Shame\" in the style of \"5 Seconds of Summer\". Generate only 4 sentences.</td>\n",
              "      <td>Moonlight paints the lonely night,\\nMy reflection shows a fading light.\\nHappiness, a distant memory's trace,\\nIn this shadows, I find no solace in this space.</td>\n",
              "      <td>0</td>\n",
              "    </tr>\n",
              "    <tr>\n",
              "      <th>1</th>\n",
              "      <td>5 Seconds of Summer</td>\n",
              "      <td>No Shame</td>\n",
              "      <td>[Pre-Chorus: Luke, Luke &amp; Ashton]</td>\n",
              "      <td>Go on and light me like a cigarette\\nEven if it might be somethin' you regret\\nYou got me now, now, now\\nSwallow me down, down, down, down</td>\n",
              "      <td>[Pre-Chorus]</td>\n",
              "      <td>Write the [Pre-Chorus] of a song titled \"No Shame\" in the style of \"5 Seconds of Summer\". Generate only 4 sentences.</td>\n",
              "      <td>Write the [Pre-Chorus] of a song titled \"No Shame\" in the style of \"5 Seconds of Summer\". Generate only 4 sentences.</td>\n",
              "      <td>Shadows linger, secrets hide,\\nYour gaze like venom, a venomous tide.\\nCan't deny the pull you hold,\\nIn this twisted game, we lose control.</td>\n",
              "      <td>1</td>\n",
              "    </tr>\n",
              "    <tr>\n",
              "      <th>2</th>\n",
              "      <td>5 Seconds of Summer</td>\n",
              "      <td>No Shame</td>\n",
              "      <td>[Chorus: All]</td>\n",
              "      <td>I only light up when cameras are flashin'\\nNever enough and no satisfaction\\nGot no shame\\nI love the way you're screaming my name\\nDiggin' my grave to get a reaction\\nChangin' my face and callin' it fashion\\nGot no shame\\nI love the way you're screaming my name</td>\n",
              "      <td>[Chorus]</td>\n",
              "      <td>Write the [Chorus] of a song titled \"No Shame\" in the style of \"5 Seconds of Summer\". Generate only 4 sentences.</td>\n",
              "      <td>Write the [Chorus] of a song titled \"No Shame\" in the style of \"5 Seconds of Summer\". Generate only 4 sentences.</td>\n",
              "      <td>Now you're looking brand new, but I wish we'd never met\\nCleanin' up your mess, while he's takin' off your dress, I forget\\nIf I ask you if you love me, will you whisper in my ear?\\nLie to me, lie, lie, lie, lie to me, my dear.</td>\n",
              "      <td>2</td>\n",
              "    </tr>\n",
              "    <tr>\n",
              "      <th>3</th>\n",
              "      <td>5 Seconds of Summer</td>\n",
              "      <td>No Shame</td>\n",
              "      <td>[Verse 2: Luke]</td>\n",
              "      <td>Lay me in the palm of your hand\\nI'll give you my permission, you'll always be forgiven\\nGo on, replace me\\nWhen you're cravin' somethin' sweeter than the words I left in your mouth\\nGo on and spit me out\\nYou might also like</td>\n",
              "      <td>[Verse]</td>\n",
              "      <td>Write the [Verse] of a song titled \"No Shame\" in the style of \"5 Seconds of Summer\". Generate only 4 sentences.</td>\n",
              "      <td>Write the [Verse] of a song titled \"No Shame\" in the style of \"5 Seconds of Summer\". Generate only 4 sentences.</td>\n",
              "      <td>Moonlight paints the lonely night,\\nShadows whisper secrets in the candlelight.\\nI'm lost in this maze, my heart a hollow drum,\\nBut I'll keep searching, 'cause I'm not done.</td>\n",
              "      <td>3</td>\n",
              "    </tr>\n",
              "    <tr>\n",
              "      <th>4</th>\n",
              "      <td>5 Seconds of Summer</td>\n",
              "      <td>No Shame</td>\n",
              "      <td>[Chorus: All]</td>\n",
              "      <td>I only light up when cameras are flashin'\\nNever enough and no satisfaction\\nGot no shame\\nI love the way you're screaming my name\\nDiggin' my grave to get a reaction\\nChangin' my face and callin' it fashion\\nGot no shame\\nI love the way you're screaming my name</td>\n",
              "      <td>[Chorus]</td>\n",
              "      <td>Write the [Chorus] of a song titled \"No Shame\" in the style of \"5 Seconds of Summer\". Generate only 4 sentences.</td>\n",
              "      <td>Write the [Chorus] of a song titled \"No Shame\" in the style of \"5 Seconds of Summer\". Generate only 4 sentences.</td>\n",
              "      <td>Now that you're out of sight, I'm feelin' alright\\nBut I know you're takin' off in the moonlight tonight\\nSo tell me one last time, before you fade from sight\\nDo you love me, love me, love me in the night?</td>\n",
              "      <td>4</td>\n",
              "    </tr>\n",
              "    <tr>\n",
              "      <th>...</th>\n",
              "      <td>...</td>\n",
              "      <td>...</td>\n",
              "      <td>...</td>\n",
              "      <td>...</td>\n",
              "      <td>...</td>\n",
              "      <td>...</td>\n",
              "      <td>...</td>\n",
              "      <td>...</td>\n",
              "      <td>...</td>\n",
              "    </tr>\n",
              "    <tr>\n",
              "      <th>956</th>\n",
              "      <td>blackbear</td>\n",
              "      <td>​if i could i would feel nothing</td>\n",
              "      <td>[Chorus]</td>\n",
              "      <td>'Cause if I could I would feel nothing\\nThat's the truth and I don't care, baby\\nThat's the truth and I don't care\\nMix the Henny with these pills\\nThe world is cold and life's not fair, baby\\nThe world is cold and life's not fair</td>\n",
              "      <td>[Chorus]</td>\n",
              "      <td>Write the [Chorus] of a song titled \"​if i could i would feel nothing\" in the style of \"blackbear\". Generate only 4 sentences.</td>\n",
              "      <td>Write the [Chorus] of a song titled \"​if i could i would feel nothing\" in the style of \"blackbear\". Generate only 4 sentences.</td>\n",
              "      <td>If I could, I'd erase that night we met,\\nLeave you in the sheets, warm and forget.\\nYou're a whirlwind of chaos, I'd stay in bed,\\nBut your crazy love's the only thing I need instead.</td>\n",
              "      <td>956</td>\n",
              "    </tr>\n",
              "    <tr>\n",
              "      <th>957</th>\n",
              "      <td>blackbear</td>\n",
              "      <td>​if i could i would feel nothing</td>\n",
              "      <td>[Post-Chorus]</td>\n",
              "      <td>So let's just fuck, no strings attached\\nLet's just fuck and after that, I'ma take you home\\nAnd you won't call me on the phone\\nIt's all good, I wanted that\\nIt's all good, I wanted that\\nNo feelings, no strings attached, girl\\nDa-da-da-da-da-da\\nYeah\\nYou might also like</td>\n",
              "      <td>[Post-Chorus]</td>\n",
              "      <td>Write the [Post-Chorus] of a song titled \"​if i could i would feel nothing\" in the style of \"blackbear\". Generate only 4 sentences.</td>\n",
              "      <td>Write the [Post-Chorus] of a song titled \"​if i could i would feel nothing\" in the style of \"blackbear\". Generate only 4 sentences.</td>\n",
              "      <td>If I could, I would feel nothing at all,\\nErase the memories, break the fragile wall.\\nForget the whispers, the doubts in the night,\\nSilence is a melody, a calming sight.</td>\n",
              "      <td>957</td>\n",
              "    </tr>\n",
              "    <tr>\n",
              "      <th>958</th>\n",
              "      <td>blackbear</td>\n",
              "      <td>​if i could i would feel nothing</td>\n",
              "      <td>[Verse 2]</td>\n",
              "      <td>February, weather's scary, I need notes on how to live\\nCall my mama, always drama, she need money for them kids\\nAnother tour, another war, I sold my soul, I hit a lick\\nIf I die and go to hell, I swear to God, I'm gon' be pissed\\nI've been prayin', I'm just sayin', keep my hands clean off that sin\\nI've been prayin' layin' in a bed I fucked a hundred in\\nI've been prayin' they won't find me laying somewhere in a ditch\\nGot some best friends that I lost 'cause shit I did when I was lit</td>\n",
              "      <td>[Verse]</td>\n",
              "      <td>Write the [Verse] of a song titled \"​if i could i would feel nothing\" in the style of \"blackbear\". Generate only 4 sentences.</td>\n",
              "      <td>Write the [Verse] of a song titled \"​if i could i would feel nothing\" in the style of \"blackbear\". Generate only 4 sentences.</td>\n",
              "      <td>If I could, I'd erase the day we met, you know\\nYou're a whirlwind, leaving chaos in your glow\\nYour beauty's blinding, but your soul's a mess\\nI'd rather stay in bed than face your stress.</td>\n",
              "      <td>958</td>\n",
              "    </tr>\n",
              "    <tr>\n",
              "      <th>959</th>\n",
              "      <td>blackbear</td>\n",
              "      <td>​if i could i would feel nothing</td>\n",
              "      <td>[Chorus]</td>\n",
              "      <td>'Cause if I could I would feel nothing\\nThat's the truth and I don't care, baby\\nThat's the truth and I don't care\\nMixed prescriptions, bad decisions\\nWorld is cold and life's not fair, baby\\nWorld is cold and life's not fair</td>\n",
              "      <td>[Chorus]</td>\n",
              "      <td>Write the [Chorus] of a song titled \"​if i could i would feel nothing\" in the style of \"blackbear\". Generate only 4 sentences.</td>\n",
              "      <td>Write the [Chorus] of a song titled \"​if i could i would feel nothing\" in the style of \"blackbear\". Generate only 4 sentences.</td>\n",
              "      <td>If I could, I'd erase the day we met,\\nStay in bed, escape this bitter regret.\\nYou're a whirlwind of chaos, I can't deny,\\nBut in this whirlwind, I just wanna lie.</td>\n",
              "      <td>959</td>\n",
              "    </tr>\n",
              "    <tr>\n",
              "      <th>960</th>\n",
              "      <td>blackbear</td>\n",
              "      <td>​if i could i would feel nothing</td>\n",
              "      <td>[Outro]</td>\n",
              "      <td>I'm gon' make you fall for me\\nYou'll never get a call from me\\nIt's all good I wanted that\\nIt's all good I wanted that\\nIt's all good I wanted that\\nIt's all good I wanted that\\nNo feelings, no strings attached, girl\\nIt's all good I wanted that\\nIt's all good I wanted that\\nIt's all good I wanted that\\nIt's all good I wanted that\\nNo feelings, no strings attached\\nNo feelings, no strings attached, girl</td>\n",
              "      <td>[Outro]</td>\n",
              "      <td>Write the [Outro] of a song titled \"​if i could i would feel nothing\" in the style of \"blackbear\". Generate only 4 sentences.</td>\n",
              "      <td>Write the [Outro] of a song titled \"​if i could i would feel nothing\" in the style of \"blackbear\". Generate only 4 sentences.</td>\n",
              "      <td>If I could, I'd erase the memory,\\nUnwind the words I whispered carelessly.\\nSilence the echoes of your broken plea,\\nLeave this night a silent, empty sea.</td>\n",
              "      <td>960</td>\n",
              "    </tr>\n",
              "  </tbody>\n",
              "</table>\n",
              "<p>961 rows × 9 columns</p>\n",
              "</div>"
            ],
            "text/plain": [
              "                  artist                              song                                tag                                                                                                                                                                                                                                                                                                                                                                                                                                                                                                      content          tag_2                                                                                                                prompt_baseline_gemma                                                                                                                             sentence                                                                                                                                                                                                                    generated_content   id\n",
              "0    5 Seconds of Summer                          No Shame                    [Verse 1: Luke]                                                                                                                                                                                                                                                                                                                                Angel, with the gun in your hand\\nPointin' my direction, givin' me affection\\nLove is fatal, won't you give it a chance?\\nCenter of attention, don't you ask me any questions        [Verse]                      Write the [Verse] of a song titled \"No Shame\" in the style of \"5 Seconds of Summer\". Generate only 4 sentences.                      Write the [Verse] of a song titled \"No Shame\" in the style of \"5 Seconds of Summer\". Generate only 4 sentences.                                                                      Moonlight paints the lonely night,\\nMy reflection shows a fading light.\\nHappiness, a distant memory's trace,\\nIn this shadows, I find no solace in this space.    0\n",
              "1    5 Seconds of Summer                          No Shame  [Pre-Chorus: Luke, Luke & Ashton]                                                                                                                                                                                                                                                                                                                                                                   Go on and light me like a cigarette\\nEven if it might be somethin' you regret\\nYou got me now, now, now\\nSwallow me down, down, down, down   [Pre-Chorus]                 Write the [Pre-Chorus] of a song titled \"No Shame\" in the style of \"5 Seconds of Summer\". Generate only 4 sentences.                 Write the [Pre-Chorus] of a song titled \"No Shame\" in the style of \"5 Seconds of Summer\". Generate only 4 sentences.                                                                                         Shadows linger, secrets hide,\\nYour gaze like venom, a venomous tide.\\nCan't deny the pull you hold,\\nIn this twisted game, we lose control.    1\n",
              "2    5 Seconds of Summer                          No Shame                      [Chorus: All]                                                                                                                                                                                                                                       I only light up when cameras are flashin'\\nNever enough and no satisfaction\\nGot no shame\\nI love the way you're screaming my name\\nDiggin' my grave to get a reaction\\nChangin' my face and callin' it fashion\\nGot no shame\\nI love the way you're screaming my name       [Chorus]                     Write the [Chorus] of a song titled \"No Shame\" in the style of \"5 Seconds of Summer\". Generate only 4 sentences.                     Write the [Chorus] of a song titled \"No Shame\" in the style of \"5 Seconds of Summer\". Generate only 4 sentences.  Now you're looking brand new, but I wish we'd never met\\nCleanin' up your mess, while he's takin' off your dress, I forget\\nIf I ask you if you love me, will you whisper in my ear?\\nLie to me, lie, lie, lie, lie to me, my dear.    2\n",
              "3    5 Seconds of Summer                          No Shame                    [Verse 2: Luke]                                                                                                                                                                                                                                                                            Lay me in the palm of your hand\\nI'll give you my permission, you'll always be forgiven\\nGo on, replace me\\nWhen you're cravin' somethin' sweeter than the words I left in your mouth\\nGo on and spit me out\\nYou might also like        [Verse]                      Write the [Verse] of a song titled \"No Shame\" in the style of \"5 Seconds of Summer\". Generate only 4 sentences.                      Write the [Verse] of a song titled \"No Shame\" in the style of \"5 Seconds of Summer\". Generate only 4 sentences.                                                       Moonlight paints the lonely night,\\nShadows whisper secrets in the candlelight.\\nI'm lost in this maze, my heart a hollow drum,\\nBut I'll keep searching, 'cause I'm not done.    3\n",
              "4    5 Seconds of Summer                          No Shame                      [Chorus: All]                                                                                                                                                                                                                                       I only light up when cameras are flashin'\\nNever enough and no satisfaction\\nGot no shame\\nI love the way you're screaming my name\\nDiggin' my grave to get a reaction\\nChangin' my face and callin' it fashion\\nGot no shame\\nI love the way you're screaming my name       [Chorus]                     Write the [Chorus] of a song titled \"No Shame\" in the style of \"5 Seconds of Summer\". Generate only 4 sentences.                     Write the [Chorus] of a song titled \"No Shame\" in the style of \"5 Seconds of Summer\". Generate only 4 sentences.                       Now that you're out of sight, I'm feelin' alright\\nBut I know you're takin' off in the moonlight tonight\\nSo tell me one last time, before you fade from sight\\nDo you love me, love me, love me in the night?    4\n",
              "..                   ...                               ...                                ...                                                                                                                                                                                                                                                                                                                                                                                                                                                                                                          ...            ...                                                                                                                                  ...                                                                                                                                  ...                                                                                                                                                                                                                                  ...  ...\n",
              "956            blackbear  ​if i could i would feel nothing                           [Chorus]                                                                                                                                                                                                                                                                       'Cause if I could I would feel nothing\\nThat's the truth and I don't care, baby\\nThat's the truth and I don't care\\nMix the Henny with these pills\\nThe world is cold and life's not fair, baby\\nThe world is cold and life's not fair       [Chorus]       Write the [Chorus] of a song titled \"​if i could i would feel nothing\" in the style of \"blackbear\". Generate only 4 sentences.       Write the [Chorus] of a song titled \"​if i could i would feel nothing\" in the style of \"blackbear\". Generate only 4 sentences.                                             If I could, I'd erase that night we met,\\nLeave you in the sheets, warm and forget.\\nYou're a whirlwind of chaos, I'd stay in bed,\\nBut your crazy love's the only thing I need instead.  956\n",
              "957            blackbear  ​if i could i would feel nothing                      [Post-Chorus]                                                                                                                                                                                                                            So let's just fuck, no strings attached\\nLet's just fuck and after that, I'ma take you home\\nAnd you won't call me on the phone\\nIt's all good, I wanted that\\nIt's all good, I wanted that\\nNo feelings, no strings attached, girl\\nDa-da-da-da-da-da\\nYeah\\nYou might also like  [Post-Chorus]  Write the [Post-Chorus] of a song titled \"​if i could i would feel nothing\" in the style of \"blackbear\". Generate only 4 sentences.  Write the [Post-Chorus] of a song titled \"​if i could i would feel nothing\" in the style of \"blackbear\". Generate only 4 sentences.                                                          If I could, I would feel nothing at all,\\nErase the memories, break the fragile wall.\\nForget the whispers, the doubts in the night,\\nSilence is a melody, a calming sight.  957\n",
              "958            blackbear  ​if i could i would feel nothing                          [Verse 2]  February, weather's scary, I need notes on how to live\\nCall my mama, always drama, she need money for them kids\\nAnother tour, another war, I sold my soul, I hit a lick\\nIf I die and go to hell, I swear to God, I'm gon' be pissed\\nI've been prayin', I'm just sayin', keep my hands clean off that sin\\nI've been prayin' layin' in a bed I fucked a hundred in\\nI've been prayin' they won't find me laying somewhere in a ditch\\nGot some best friends that I lost 'cause shit I did when I was lit        [Verse]        Write the [Verse] of a song titled \"​if i could i would feel nothing\" in the style of \"blackbear\". Generate only 4 sentences.        Write the [Verse] of a song titled \"​if i could i would feel nothing\" in the style of \"blackbear\". Generate only 4 sentences.                                        If I could, I'd erase the day we met, you know\\nYou're a whirlwind, leaving chaos in your glow\\nYour beauty's blinding, but your soul's a mess\\nI'd rather stay in bed than face your stress.  958\n",
              "959            blackbear  ​if i could i would feel nothing                           [Chorus]                                                                                                                                                                                                                                                                           'Cause if I could I would feel nothing\\nThat's the truth and I don't care, baby\\nThat's the truth and I don't care\\nMixed prescriptions, bad decisions\\nWorld is cold and life's not fair, baby\\nWorld is cold and life's not fair       [Chorus]       Write the [Chorus] of a song titled \"​if i could i would feel nothing\" in the style of \"blackbear\". Generate only 4 sentences.       Write the [Chorus] of a song titled \"​if i could i would feel nothing\" in the style of \"blackbear\". Generate only 4 sentences.                                                                 If I could, I'd erase the day we met,\\nStay in bed, escape this bitter regret.\\nYou're a whirlwind of chaos, I can't deny,\\nBut in this whirlwind, I just wanna lie.  959\n",
              "960            blackbear  ​if i could i would feel nothing                            [Outro]                                                                                     I'm gon' make you fall for me\\nYou'll never get a call from me\\nIt's all good I wanted that\\nIt's all good I wanted that\\nIt's all good I wanted that\\nIt's all good I wanted that\\nNo feelings, no strings attached, girl\\nIt's all good I wanted that\\nIt's all good I wanted that\\nIt's all good I wanted that\\nIt's all good I wanted that\\nNo feelings, no strings attached\\nNo feelings, no strings attached, girl        [Outro]        Write the [Outro] of a song titled \"​if i could i would feel nothing\" in the style of \"blackbear\". Generate only 4 sentences.        Write the [Outro] of a song titled \"​if i could i would feel nothing\" in the style of \"blackbear\". Generate only 4 sentences.                                                                          If I could, I'd erase the memory,\\nUnwind the words I whispered carelessly.\\nSilence the echoes of your broken plea,\\nLeave this night a silent, empty sea.  960\n",
              "\n",
              "[961 rows x 9 columns]"
            ]
          },
          "execution_count": 118,
          "metadata": {},
          "output_type": "execute_result"
        }
      ],
      "source": [
        "gemma_rag_files_df"
      ]
    },
    {
      "cell_type": "code",
      "execution_count": 119,
      "metadata": {},
      "outputs": [],
      "source": [
        "pd.concat([test, gemma_rag_files], axis=1).to_csv('output_gemma_rag/gemma_rag_generated_content.csv', index=False)"
      ]
    },
    {
      "cell_type": "markdown",
      "metadata": {
        "id": "8j5kx3kPR6GI"
      },
      "source": [
        "# 🤓 Results Analysis"
      ]
    },
    {
      "cell_type": "code",
      "execution_count": 69,
      "metadata": {},
      "outputs": [],
      "source": []
    },
    {
      "cell_type": "code",
      "execution_count": null,
      "metadata": {},
      "outputs": [],
      "source": [
        "MISTRAL_API = os.getenv(\"MISTRAL_API\")\n",
        "client = MistralClient(api_key=MISTRAL_API)"
      ]
    },
    {
      "cell_type": "code",
      "execution_count": null,
      "metadata": {},
      "outputs": [],
      "source": [
        "def generate_prompt(tag, lyrics):\n",
        "    return f\"\"\"ONLY THE SCORE.\n",
        "    Give me the score from 0/10 coherence, musicality and quality. \n",
        "    Example: \n",
        "    coherence X/10\n",
        "    musicality y/10\n",
        "    quality z/10\n",
        "    of this {tag} of a pop song: \n",
        "    {lyrics}\"\"\""
      ]
    },
    {
      "cell_type": "code",
      "execution_count": null,
      "metadata": {},
      "outputs": [],
      "source": [
        "original_prompts = [\n",
        "    generate_prompt(row[\"tag_2\"], row[\"Original Lyrics\"]) for _, row in data.iterrows()\n",
        "]\n",
        "generated_prompts = [\n",
        "    generate_prompt(row[\"tag_2\"], row[\"Generated Lyrics\"]) for _, row in data.iterrows()\n",
        "]\n",
        "generated_prompts"
      ]
    },
    {
      "cell_type": "code",
      "execution_count": null,
      "metadata": {},
      "outputs": [],
      "source": [
        "def send_message_mistral(\n",
        "    client: MistralClient, message: str, mistral_model=\"open-mistral-7b\"\n",
        ") -> str:\n",
        "    \"\"\"\n",
        "    Send a message to the Mistral API and return the response.\n",
        "\n",
        "    Parameters:\n",
        "        client: Mistral API client.\n",
        "        message: The message to send to the API.\n",
        "\n",
        "    Returns:\n",
        "        str: Model response.\n",
        "    \"\"\"\n",
        "    messages = [ChatMessage(role=\"user\", content=message)]\n",
        "    chat_response = client.chat(\n",
        "        model=mistral_model,\n",
        "        messages=messages,\n",
        "    )\n",
        "    return chat_response.choices[0].message.content"
      ]
    },
    {
      "cell_type": "code",
      "execution_count": null,
      "metadata": {},
      "outputs": [],
      "source": [
        "original_eval = [send_message_mistral(client, prompt) for prompt in original_promts]\n",
        "generated_eval = [send_message_mistral(client, prompt) for prompt in generated_promts]"
      ]
    },
    {
      "cell_type": "code",
      "execution_count": null,
      "metadata": {},
      "outputs": [],
      "source": [
        "data[\"Generated_eval\"] = generated_eval\n",
        "data[\"Original_eval\"] = original_eval\n",
        "data"
      ]
    },
    {
      "cell_type": "code",
      "execution_count": null,
      "metadata": {},
      "outputs": [],
      "source": [
        "import re\n",
        "\n",
        "pattern = r\"(\\w+)\\:\\s+(\\d+)\\/(\\d+)\"\n",
        "data[\"Generated_punct\"] = data[\"Generated_eval\"].map(\n",
        "    lambda row: {x[0]: (float(x[1]), float(x[2])) for x in re.findall(pattern, row)}\n",
        ")\n",
        "data[\"Original_punct\"] = data[\"Original_eval\"].map(\n",
        "    lambda row: {x[0]: (float(x[1]), float(x[2])) for x in re.findall(pattern, row)}\n",
        ")\n",
        "\n",
        "data.head()"
      ]
    },
    {
      "cell_type": "code",
      "execution_count": null,
      "metadata": {},
      "outputs": [],
      "source": [
        "for data_set in (\"Generated\", \"Original\"):\n",
        "    for att in [\"coherence\", \"musicality\", \"quality\"]:\n",
        "        data[f\"{data_set}_{att}\"] = data[f\"{data_set}_punct\"].map(\n",
        "            lambda x: 10 * x.get(att, (1, -1))[0] / x.get(att, (1, -1))[1]\n",
        "        )"
      ]
    },
    {
      "cell_type": "code",
      "execution_count": null,
      "metadata": {},
      "outputs": [],
      "source": [
        "for data_set in (\"Generated\", \"Original\"):\n",
        "    data[f\"{data_set}_mean\"] = data[\n",
        "        [f\"{data_set}_{att}\" for att in [\"coherence\", \"musicality\", \"quality\"]]\n",
        "    ].mean(axis=1)\n",
        "data.head()"
      ]
    },
    {
      "cell_type": "code",
      "execution_count": null,
      "metadata": {},
      "outputs": [],
      "source": [
        "data.to_csv(\"../data/results_mistral_gemma.csv\", index=False)"
      ]
    },
    {
      "cell_type": "markdown",
      "metadata": {
        "id": "r3mmf2w-Rwm1"
      },
      "source": [
        "## Current Results with GEMMA+RAG"
      ]
    },
    {
      "cell_type": "code",
      "execution_count": null,
      "metadata": {
        "id": "eqrLw2qnRvkq"
      },
      "outputs": [],
      "source": []
    }
  ],
  "metadata": {
    "accelerator": "GPU",
    "colab": {
      "collapsed_sections": [
        "EeolmfSKpa3X"
      ],
      "gpuType": "T4",
      "provenance": []
    },
    "kernelspec": {
      "display_name": "Python 3",
      "name": "python3"
    },
    "language_info": {
      "codemirror_mode": {
        "name": "ipython",
        "version": 3
      },
      "file_extension": ".py",
      "mimetype": "text/x-python",
      "name": "python",
      "nbconvert_exporter": "python",
      "pygments_lexer": "ipython3",
      "version": "3.9.6"
    },
    "widgets": {
      "application/vnd.jupyter.widget-state+json": {
        "23990049e7ad42db8739e42aba663e95": {
          "model_module": "@jupyter-widgets/controls",
          "model_module_version": "1.5.0",
          "model_name": "DescriptionStyleModel",
          "state": {
            "_model_module": "@jupyter-widgets/controls",
            "_model_module_version": "1.5.0",
            "_model_name": "DescriptionStyleModel",
            "_view_count": null,
            "_view_module": "@jupyter-widgets/base",
            "_view_module_version": "1.2.0",
            "_view_name": "StyleView",
            "description_width": ""
          }
        },
        "23aaddd414a04de7bc9f509c7f3efa27": {
          "model_module": "@jupyter-widgets/controls",
          "model_module_version": "1.5.0",
          "model_name": "HBoxModel",
          "state": {
            "_dom_classes": [],
            "_model_module": "@jupyter-widgets/controls",
            "_model_module_version": "1.5.0",
            "_model_name": "HBoxModel",
            "_view_count": null,
            "_view_module": "@jupyter-widgets/controls",
            "_view_module_version": "1.5.0",
            "_view_name": "HBoxView",
            "box_style": "",
            "children": [
              "IPY_MODEL_87d040380c264ee1a673dfb339cd8fee",
              "IPY_MODEL_266918385e164374a30d1481f575042d",
              "IPY_MODEL_d03cff6529f34e4da387f34379d70b84"
            ],
            "layout": "IPY_MODEL_8107dacb40f141d68c6838fe4353bd93"
          }
        },
        "266918385e164374a30d1481f575042d": {
          "model_module": "@jupyter-widgets/controls",
          "model_module_version": "1.5.0",
          "model_name": "FloatProgressModel",
          "state": {
            "_dom_classes": [],
            "_model_module": "@jupyter-widgets/controls",
            "_model_module_version": "1.5.0",
            "_model_name": "FloatProgressModel",
            "_view_count": null,
            "_view_module": "@jupyter-widgets/controls",
            "_view_module_version": "1.5.0",
            "_view_name": "ProgressView",
            "bar_style": "success",
            "description": "",
            "description_tooltip": null,
            "layout": "IPY_MODEL_f3b69e1599a74bd7ba18f832e5c9916a",
            "max": 1633,
            "min": 0,
            "orientation": "horizontal",
            "style": "IPY_MODEL_786b7c33ca1e49a3b89e656c80ec730f",
            "value": 1633
          }
        },
        "28c7af923d9b44e5a3d3c476404ea734": {
          "model_module": "@jupyter-widgets/controls",
          "model_module_version": "1.5.0",
          "model_name": "DescriptionStyleModel",
          "state": {
            "_model_module": "@jupyter-widgets/controls",
            "_model_module_version": "1.5.0",
            "_model_name": "DescriptionStyleModel",
            "_view_count": null,
            "_view_module": "@jupyter-widgets/base",
            "_view_module_version": "1.2.0",
            "_view_name": "StyleView",
            "description_width": ""
          }
        },
        "2c77cc635bee43649670f308e85af52f": {
          "model_module": "@jupyter-widgets/base",
          "model_module_version": "1.2.0",
          "model_name": "LayoutModel",
          "state": {
            "_model_module": "@jupyter-widgets/base",
            "_model_module_version": "1.2.0",
            "_model_name": "LayoutModel",
            "_view_count": null,
            "_view_module": "@jupyter-widgets/base",
            "_view_module_version": "1.2.0",
            "_view_name": "LayoutView",
            "align_content": null,
            "align_items": null,
            "align_self": null,
            "border": null,
            "bottom": null,
            "display": null,
            "flex": null,
            "flex_flow": null,
            "grid_area": null,
            "grid_auto_columns": null,
            "grid_auto_flow": null,
            "grid_auto_rows": null,
            "grid_column": null,
            "grid_gap": null,
            "grid_row": null,
            "grid_template_areas": null,
            "grid_template_columns": null,
            "grid_template_rows": null,
            "height": null,
            "justify_content": null,
            "justify_items": null,
            "left": null,
            "margin": null,
            "max_height": null,
            "max_width": null,
            "min_height": null,
            "min_width": null,
            "object_fit": null,
            "object_position": null,
            "order": null,
            "overflow": null,
            "overflow_x": null,
            "overflow_y": null,
            "padding": null,
            "right": null,
            "top": null,
            "visibility": null,
            "width": null
          }
        },
        "42c284f79b1f4e30b9220af177cd042f": {
          "model_module": "@jupyter-widgets/controls",
          "model_module_version": "1.5.0",
          "model_name": "HBoxModel",
          "state": {
            "_dom_classes": [],
            "_model_module": "@jupyter-widgets/controls",
            "_model_module_version": "1.5.0",
            "_model_name": "HBoxModel",
            "_view_count": null,
            "_view_module": "@jupyter-widgets/controls",
            "_view_module_version": "1.5.0",
            "_view_name": "HBoxView",
            "box_style": "",
            "children": [
              "IPY_MODEL_dd02b37fb33a4eceb69a637d97ccddf1",
              "IPY_MODEL_cc5304b5a7b6434f8c3bbb936a7e77e9",
              "IPY_MODEL_7aa44bb89b384881b3aff5be3e963397"
            ],
            "layout": "IPY_MODEL_2c77cc635bee43649670f308e85af52f"
          }
        },
        "575bb0bdacaf467983c8ca1e288370c7": {
          "model_module": "@jupyter-widgets/base",
          "model_module_version": "1.2.0",
          "model_name": "LayoutModel",
          "state": {
            "_model_module": "@jupyter-widgets/base",
            "_model_module_version": "1.2.0",
            "_model_name": "LayoutModel",
            "_view_count": null,
            "_view_module": "@jupyter-widgets/base",
            "_view_module_version": "1.2.0",
            "_view_name": "LayoutView",
            "align_content": null,
            "align_items": null,
            "align_self": null,
            "border": null,
            "bottom": null,
            "display": null,
            "flex": null,
            "flex_flow": null,
            "grid_area": null,
            "grid_auto_columns": null,
            "grid_auto_flow": null,
            "grid_auto_rows": null,
            "grid_column": null,
            "grid_gap": null,
            "grid_row": null,
            "grid_template_areas": null,
            "grid_template_columns": null,
            "grid_template_rows": null,
            "height": null,
            "justify_content": null,
            "justify_items": null,
            "left": null,
            "margin": null,
            "max_height": null,
            "max_width": null,
            "min_height": null,
            "min_width": null,
            "object_fit": null,
            "object_position": null,
            "order": null,
            "overflow": null,
            "overflow_x": null,
            "overflow_y": null,
            "padding": null,
            "right": null,
            "top": null,
            "visibility": null,
            "width": null
          }
        },
        "603f05d03e854d57a06f7ef4760cfa73": {
          "model_module": "@jupyter-widgets/base",
          "model_module_version": "1.2.0",
          "model_name": "LayoutModel",
          "state": {
            "_model_module": "@jupyter-widgets/base",
            "_model_module_version": "1.2.0",
            "_model_name": "LayoutModel",
            "_view_count": null,
            "_view_module": "@jupyter-widgets/base",
            "_view_module_version": "1.2.0",
            "_view_name": "LayoutView",
            "align_content": null,
            "align_items": null,
            "align_self": null,
            "border": null,
            "bottom": null,
            "display": null,
            "flex": null,
            "flex_flow": null,
            "grid_area": null,
            "grid_auto_columns": null,
            "grid_auto_flow": null,
            "grid_auto_rows": null,
            "grid_column": null,
            "grid_gap": null,
            "grid_row": null,
            "grid_template_areas": null,
            "grid_template_columns": null,
            "grid_template_rows": null,
            "height": null,
            "justify_content": null,
            "justify_items": null,
            "left": null,
            "margin": null,
            "max_height": null,
            "max_width": null,
            "min_height": null,
            "min_width": null,
            "object_fit": null,
            "object_position": null,
            "order": null,
            "overflow": null,
            "overflow_x": null,
            "overflow_y": null,
            "padding": null,
            "right": null,
            "top": null,
            "visibility": null,
            "width": null
          }
        },
        "6a85d7be853a4102bc107cebb1004c49": {
          "model_module": "@jupyter-widgets/base",
          "model_module_version": "1.2.0",
          "model_name": "LayoutModel",
          "state": {
            "_model_module": "@jupyter-widgets/base",
            "_model_module_version": "1.2.0",
            "_model_name": "LayoutModel",
            "_view_count": null,
            "_view_module": "@jupyter-widgets/base",
            "_view_module_version": "1.2.0",
            "_view_name": "LayoutView",
            "align_content": null,
            "align_items": null,
            "align_self": null,
            "border": null,
            "bottom": null,
            "display": null,
            "flex": null,
            "flex_flow": null,
            "grid_area": null,
            "grid_auto_columns": null,
            "grid_auto_flow": null,
            "grid_auto_rows": null,
            "grid_column": null,
            "grid_gap": null,
            "grid_row": null,
            "grid_template_areas": null,
            "grid_template_columns": null,
            "grid_template_rows": null,
            "height": null,
            "justify_content": null,
            "justify_items": null,
            "left": null,
            "margin": null,
            "max_height": null,
            "max_width": null,
            "min_height": null,
            "min_width": null,
            "object_fit": null,
            "object_position": null,
            "order": null,
            "overflow": null,
            "overflow_x": null,
            "overflow_y": null,
            "padding": null,
            "right": null,
            "top": null,
            "visibility": null,
            "width": null
          }
        },
        "786b7c33ca1e49a3b89e656c80ec730f": {
          "model_module": "@jupyter-widgets/controls",
          "model_module_version": "1.5.0",
          "model_name": "ProgressStyleModel",
          "state": {
            "_model_module": "@jupyter-widgets/controls",
            "_model_module_version": "1.5.0",
            "_model_name": "ProgressStyleModel",
            "_view_count": null,
            "_view_module": "@jupyter-widgets/base",
            "_view_module_version": "1.2.0",
            "_view_name": "StyleView",
            "bar_color": null,
            "description_width": ""
          }
        },
        "7a1270b363d84b459f9d76e6ee3d0aed": {
          "model_module": "@jupyter-widgets/base",
          "model_module_version": "1.2.0",
          "model_name": "LayoutModel",
          "state": {
            "_model_module": "@jupyter-widgets/base",
            "_model_module_version": "1.2.0",
            "_model_name": "LayoutModel",
            "_view_count": null,
            "_view_module": "@jupyter-widgets/base",
            "_view_module_version": "1.2.0",
            "_view_name": "LayoutView",
            "align_content": null,
            "align_items": null,
            "align_self": null,
            "border": null,
            "bottom": null,
            "display": null,
            "flex": null,
            "flex_flow": null,
            "grid_area": null,
            "grid_auto_columns": null,
            "grid_auto_flow": null,
            "grid_auto_rows": null,
            "grid_column": null,
            "grid_gap": null,
            "grid_row": null,
            "grid_template_areas": null,
            "grid_template_columns": null,
            "grid_template_rows": null,
            "height": null,
            "justify_content": null,
            "justify_items": null,
            "left": null,
            "margin": null,
            "max_height": null,
            "max_width": null,
            "min_height": null,
            "min_width": null,
            "object_fit": null,
            "object_position": null,
            "order": null,
            "overflow": null,
            "overflow_x": null,
            "overflow_y": null,
            "padding": null,
            "right": null,
            "top": null,
            "visibility": null,
            "width": null
          }
        },
        "7aa44bb89b384881b3aff5be3e963397": {
          "model_module": "@jupyter-widgets/controls",
          "model_module_version": "1.5.0",
          "model_name": "HTMLModel",
          "state": {
            "_dom_classes": [],
            "_model_module": "@jupyter-widgets/controls",
            "_model_module_version": "1.5.0",
            "_model_name": "HTMLModel",
            "_view_count": null,
            "_view_module": "@jupyter-widgets/controls",
            "_view_module_version": "1.5.0",
            "_view_name": "HTMLView",
            "description": "",
            "description_tooltip": null,
            "layout": "IPY_MODEL_e7bdf36484bf4b3daac200d56089e34e",
            "placeholder": "​",
            "style": "IPY_MODEL_23990049e7ad42db8739e42aba663e95",
            "value": " 2/2 [00:24&lt;00:00, 10.38s/it]"
          }
        },
        "8107dacb40f141d68c6838fe4353bd93": {
          "model_module": "@jupyter-widgets/base",
          "model_module_version": "1.2.0",
          "model_name": "LayoutModel",
          "state": {
            "_model_module": "@jupyter-widgets/base",
            "_model_module_version": "1.2.0",
            "_model_name": "LayoutModel",
            "_view_count": null,
            "_view_module": "@jupyter-widgets/base",
            "_view_module_version": "1.2.0",
            "_view_name": "LayoutView",
            "align_content": null,
            "align_items": null,
            "align_self": null,
            "border": null,
            "bottom": null,
            "display": null,
            "flex": null,
            "flex_flow": null,
            "grid_area": null,
            "grid_auto_columns": null,
            "grid_auto_flow": null,
            "grid_auto_rows": null,
            "grid_column": null,
            "grid_gap": null,
            "grid_row": null,
            "grid_template_areas": null,
            "grid_template_columns": null,
            "grid_template_rows": null,
            "height": null,
            "justify_content": null,
            "justify_items": null,
            "left": null,
            "margin": null,
            "max_height": null,
            "max_width": null,
            "min_height": null,
            "min_width": null,
            "object_fit": null,
            "object_position": null,
            "order": null,
            "overflow": null,
            "overflow_x": null,
            "overflow_y": null,
            "padding": null,
            "right": null,
            "top": null,
            "visibility": null,
            "width": null
          }
        },
        "87d040380c264ee1a673dfb339cd8fee": {
          "model_module": "@jupyter-widgets/controls",
          "model_module_version": "1.5.0",
          "model_name": "HTMLModel",
          "state": {
            "_dom_classes": [],
            "_model_module": "@jupyter-widgets/controls",
            "_model_module_version": "1.5.0",
            "_model_name": "HTMLModel",
            "_view_count": null,
            "_view_module": "@jupyter-widgets/controls",
            "_view_module_version": "1.5.0",
            "_view_name": "HTMLView",
            "description": "",
            "description_tooltip": null,
            "layout": "IPY_MODEL_7a1270b363d84b459f9d76e6ee3d0aed",
            "placeholder": "​",
            "style": "IPY_MODEL_f951fd3175cb4e2ab98913aeee592914",
            "value": "artifact.metadata: 100%"
          }
        },
        "97b75cfe01c2479cb768d991730e5321": {
          "model_module": "@jupyter-widgets/controls",
          "model_module_version": "1.5.0",
          "model_name": "ProgressStyleModel",
          "state": {
            "_model_module": "@jupyter-widgets/controls",
            "_model_module_version": "1.5.0",
            "_model_name": "ProgressStyleModel",
            "_view_count": null,
            "_view_module": "@jupyter-widgets/base",
            "_view_module_version": "1.2.0",
            "_view_name": "StyleView",
            "bar_color": null,
            "description_width": ""
          }
        },
        "aa44f70f363a448f91b10f59db91cb35": {
          "model_module": "@jupyter-widgets/controls",
          "model_module_version": "1.5.0",
          "model_name": "DescriptionStyleModel",
          "state": {
            "_model_module": "@jupyter-widgets/controls",
            "_model_module_version": "1.5.0",
            "_model_name": "DescriptionStyleModel",
            "_view_count": null,
            "_view_module": "@jupyter-widgets/base",
            "_view_module_version": "1.2.0",
            "_view_name": "StyleView",
            "description_width": ""
          }
        },
        "cc5304b5a7b6434f8c3bbb936a7e77e9": {
          "model_module": "@jupyter-widgets/controls",
          "model_module_version": "1.5.0",
          "model_name": "FloatProgressModel",
          "state": {
            "_dom_classes": [],
            "_model_module": "@jupyter-widgets/controls",
            "_model_module_version": "1.5.0",
            "_model_name": "FloatProgressModel",
            "_view_count": null,
            "_view_module": "@jupyter-widgets/controls",
            "_view_module_version": "1.5.0",
            "_view_name": "ProgressView",
            "bar_style": "success",
            "description": "",
            "description_tooltip": null,
            "layout": "IPY_MODEL_575bb0bdacaf467983c8ca1e288370c7",
            "max": 2,
            "min": 0,
            "orientation": "horizontal",
            "style": "IPY_MODEL_97b75cfe01c2479cb768d991730e5321",
            "value": 2
          }
        },
        "d03cff6529f34e4da387f34379d70b84": {
          "model_module": "@jupyter-widgets/controls",
          "model_module_version": "1.5.0",
          "model_name": "HTMLModel",
          "state": {
            "_dom_classes": [],
            "_model_module": "@jupyter-widgets/controls",
            "_model_module_version": "1.5.0",
            "_model_name": "HTMLModel",
            "_view_count": null,
            "_view_module": "@jupyter-widgets/controls",
            "_view_module_version": "1.5.0",
            "_view_name": "HTMLView",
            "description": "",
            "description_tooltip": null,
            "layout": "IPY_MODEL_603f05d03e854d57a06f7ef4760cfa73",
            "placeholder": "​",
            "style": "IPY_MODEL_28c7af923d9b44e5a3d3c476404ea734",
            "value": " 1.63k/1.63k [00:00&lt;00:00, 38.0kB/s]"
          }
        },
        "dd02b37fb33a4eceb69a637d97ccddf1": {
          "model_module": "@jupyter-widgets/controls",
          "model_module_version": "1.5.0",
          "model_name": "HTMLModel",
          "state": {
            "_dom_classes": [],
            "_model_module": "@jupyter-widgets/controls",
            "_model_module_version": "1.5.0",
            "_model_name": "HTMLModel",
            "_view_count": null,
            "_view_module": "@jupyter-widgets/controls",
            "_view_module_version": "1.5.0",
            "_view_name": "HTMLView",
            "description": "",
            "description_tooltip": null,
            "layout": "IPY_MODEL_6a85d7be853a4102bc107cebb1004c49",
            "placeholder": "​",
            "style": "IPY_MODEL_aa44f70f363a448f91b10f59db91cb35",
            "value": "Loading checkpoint shards: 100%"
          }
        },
        "e7bdf36484bf4b3daac200d56089e34e": {
          "model_module": "@jupyter-widgets/base",
          "model_module_version": "1.2.0",
          "model_name": "LayoutModel",
          "state": {
            "_model_module": "@jupyter-widgets/base",
            "_model_module_version": "1.2.0",
            "_model_name": "LayoutModel",
            "_view_count": null,
            "_view_module": "@jupyter-widgets/base",
            "_view_module_version": "1.2.0",
            "_view_name": "LayoutView",
            "align_content": null,
            "align_items": null,
            "align_self": null,
            "border": null,
            "bottom": null,
            "display": null,
            "flex": null,
            "flex_flow": null,
            "grid_area": null,
            "grid_auto_columns": null,
            "grid_auto_flow": null,
            "grid_auto_rows": null,
            "grid_column": null,
            "grid_gap": null,
            "grid_row": null,
            "grid_template_areas": null,
            "grid_template_columns": null,
            "grid_template_rows": null,
            "height": null,
            "justify_content": null,
            "justify_items": null,
            "left": null,
            "margin": null,
            "max_height": null,
            "max_width": null,
            "min_height": null,
            "min_width": null,
            "object_fit": null,
            "object_position": null,
            "order": null,
            "overflow": null,
            "overflow_x": null,
            "overflow_y": null,
            "padding": null,
            "right": null,
            "top": null,
            "visibility": null,
            "width": null
          }
        },
        "f3b69e1599a74bd7ba18f832e5c9916a": {
          "model_module": "@jupyter-widgets/base",
          "model_module_version": "1.2.0",
          "model_name": "LayoutModel",
          "state": {
            "_model_module": "@jupyter-widgets/base",
            "_model_module_version": "1.2.0",
            "_model_name": "LayoutModel",
            "_view_count": null,
            "_view_module": "@jupyter-widgets/base",
            "_view_module_version": "1.2.0",
            "_view_name": "LayoutView",
            "align_content": null,
            "align_items": null,
            "align_self": null,
            "border": null,
            "bottom": null,
            "display": null,
            "flex": null,
            "flex_flow": null,
            "grid_area": null,
            "grid_auto_columns": null,
            "grid_auto_flow": null,
            "grid_auto_rows": null,
            "grid_column": null,
            "grid_gap": null,
            "grid_row": null,
            "grid_template_areas": null,
            "grid_template_columns": null,
            "grid_template_rows": null,
            "height": null,
            "justify_content": null,
            "justify_items": null,
            "left": null,
            "margin": null,
            "max_height": null,
            "max_width": null,
            "min_height": null,
            "min_width": null,
            "object_fit": null,
            "object_position": null,
            "order": null,
            "overflow": null,
            "overflow_x": null,
            "overflow_y": null,
            "padding": null,
            "right": null,
            "top": null,
            "visibility": null,
            "width": null
          }
        },
        "f951fd3175cb4e2ab98913aeee592914": {
          "model_module": "@jupyter-widgets/controls",
          "model_module_version": "1.5.0",
          "model_name": "DescriptionStyleModel",
          "state": {
            "_model_module": "@jupyter-widgets/controls",
            "_model_module_version": "1.5.0",
            "_model_name": "DescriptionStyleModel",
            "_view_count": null,
            "_view_module": "@jupyter-widgets/base",
            "_view_module_version": "1.2.0",
            "_view_name": "StyleView",
            "description_width": ""
          }
        }
      }
    }
  },
  "nbformat": 4,
  "nbformat_minor": 0
}
