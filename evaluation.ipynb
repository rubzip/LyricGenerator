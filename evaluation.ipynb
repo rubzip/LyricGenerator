{
 "cells": [
  {
   "cell_type": "code",
   "execution_count": 1,
   "id": "f3e5bfa4-f402-4064-9e27-0229def42805",
   "metadata": {},
   "outputs": [],
   "source": [
    "import pandas as pd"
   ]
  },
  {
   "cell_type": "code",
   "execution_count": null,
   "id": "cfd1620a-7dbd-4a7c-88d9-569b27bd2113",
   "metadata": {},
   "outputs": [],
   "source": []
  },
  {
   "cell_type": "code",
   "execution_count": null,
   "id": "08144026-7ff6-46c5-9547-e14431782cdb",
   "metadata": {},
   "outputs": [],
   "source": []
  },
  {
   "cell_type": "code",
   "execution_count": 9,
   "id": "fbb5937f-26af-4dbc-ac36-cc62af79a623",
   "metadata": {},
   "outputs": [
    {
     "data": {
      "text/html": [
       "<div>\n",
       "<style scoped>\n",
       "    .dataframe tbody tr th:only-of-type {\n",
       "        vertical-align: middle;\n",
       "    }\n",
       "\n",
       "    .dataframe tbody tr th {\n",
       "        vertical-align: top;\n",
       "    }\n",
       "\n",
       "    .dataframe thead th {\n",
       "        text-align: right;\n",
       "    }\n",
       "</style>\n",
       "<table border=\"1\" class=\"dataframe\">\n",
       "  <thead>\n",
       "    <tr style=\"text-align: right;\">\n",
       "      <th></th>\n",
       "      <th>is_generated</th>\n",
       "      <th>tag</th>\n",
       "      <th>song</th>\n",
       "    </tr>\n",
       "  </thead>\n",
       "  <tbody>\n",
       "    <tr>\n",
       "      <th>0</th>\n",
       "      <td>True</td>\n",
       "      <td>[Verse]</td>\n",
       "      <td>hola hola hola hola</td>\n",
       "    </tr>\n",
       "    <tr>\n",
       "      <th>1</th>\n",
       "      <td>False</td>\n",
       "      <td>[Verse]</td>\n",
       "      <td>adios adios adios</td>\n",
       "    </tr>\n",
       "  </tbody>\n",
       "</table>\n",
       "</div>"
      ],
      "text/plain": [
       "   is_generated      tag                 song\n",
       "0          True  [Verse]  hola hola hola hola\n",
       "1         False  [Verse]    adios adios adios"
      ]
     },
     "execution_count": 9,
     "metadata": {},
     "output_type": "execute_result"
    }
   ],
   "source": [
    "data = [\n",
    "    [True, \"[Verse]\", \"hola hola hola hola\"],\n",
    "    [False, \"[Verse]\", \"adios adios adios\"]\n",
    "]\n",
    "\n",
    "df = pd.DataFrame(data, columns=[\"is_generated\", \"tag\", \"song\"])\n",
    "df"
   ]
  },
  {
   "cell_type": "code",
   "execution_count": 7,
   "id": "8c48ed79-18de-4021-8e41-24d52359c8e8",
   "metadata": {},
   "outputs": [],
   "source": [
    "def generate_prompt(tag, song):\n",
    "    return f\"Evaluate from 0/10 coherence and quality of this {tag} of a pop song: {song}\""
   ]
  },
  {
   "cell_type": "code",
   "execution_count": null,
   "id": "0674951e-dd92-4cc4-a259-4598c5e96841",
   "metadata": {},
   "outputs": [],
   "source": [
    "df['d'] = df.apply(lambda x: some_func(a = x['a'], b = x['b'], c = x['c']), axis=1)\n"
   ]
  },
  {
   "cell_type": "code",
   "execution_count": 11,
   "id": "72f9f372-66d5-4a4e-868d-cd3cb7c8782a",
   "metadata": {},
   "outputs": [
    {
     "data": {
      "text/html": [
       "<div>\n",
       "<style scoped>\n",
       "    .dataframe tbody tr th:only-of-type {\n",
       "        vertical-align: middle;\n",
       "    }\n",
       "\n",
       "    .dataframe tbody tr th {\n",
       "        vertical-align: top;\n",
       "    }\n",
       "\n",
       "    .dataframe thead th {\n",
       "        text-align: right;\n",
       "    }\n",
       "</style>\n",
       "<table border=\"1\" class=\"dataframe\">\n",
       "  <thead>\n",
       "    <tr style=\"text-align: right;\">\n",
       "      <th></th>\n",
       "      <th>is_generated</th>\n",
       "      <th>tag</th>\n",
       "      <th>song</th>\n",
       "      <th>promt</th>\n",
       "    </tr>\n",
       "  </thead>\n",
       "  <tbody>\n",
       "    <tr>\n",
       "      <th>0</th>\n",
       "      <td>True</td>\n",
       "      <td>[Verse]</td>\n",
       "      <td>hola hola hola hola</td>\n",
       "      <td>Evaluate from 0/10 coherence and quality of th...</td>\n",
       "    </tr>\n",
       "    <tr>\n",
       "      <th>1</th>\n",
       "      <td>False</td>\n",
       "      <td>[Verse]</td>\n",
       "      <td>adios adios adios</td>\n",
       "      <td>Evaluate from 0/10 coherence and quality of th...</td>\n",
       "    </tr>\n",
       "  </tbody>\n",
       "</table>\n",
       "</div>"
      ],
      "text/plain": [
       "   is_generated      tag                 song  \\\n",
       "0          True  [Verse]  hola hola hola hola   \n",
       "1         False  [Verse]    adios adios adios   \n",
       "\n",
       "                                               promt  \n",
       "0  Evaluate from 0/10 coherence and quality of th...  \n",
       "1  Evaluate from 0/10 coherence and quality of th...  "
      ]
     },
     "execution_count": 11,
     "metadata": {},
     "output_type": "execute_result"
    }
   ],
   "source": [
    "df[\"promt\"] = df.apply(lambda x: generate_prompt(x[\"tag\"], x[\"song\"]), axis=1)\n",
    "df"
   ]
  }
 ],
 "metadata": {
  "kernelspec": {
   "display_name": "Python 3 (ipykernel)",
   "language": "python",
   "name": "python3"
  },
  "language_info": {
   "codemirror_mode": {
    "name": "ipython",
    "version": 3
   },
   "file_extension": ".py",
   "mimetype": "text/x-python",
   "name": "python",
   "nbconvert_exporter": "python",
   "pygments_lexer": "ipython3",
   "version": "3.11.7"
  }
 },
 "nbformat": 4,
 "nbformat_minor": 5
}
